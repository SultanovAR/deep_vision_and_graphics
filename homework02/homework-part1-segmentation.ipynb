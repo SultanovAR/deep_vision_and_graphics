{
  "cells": [
    {
      "cell_type": "markdown",
      "id": "03840993",
      "metadata": {
        "id": "03840993"
      },
      "source": [
        "**Neural networks for road segmentation**\n",
        "========================"
      ]
    },
    {
      "cell_type": "markdown",
      "id": "7def38b0",
      "metadata": {
        "id": "7def38b0"
      },
      "source": [
        "Your next task is to train neural network to segment road on images from car cams."
      ]
    },
    {
      "cell_type": "markdown",
      "id": "9cdf93db",
      "metadata": {
        "id": "9cdf93db"
      },
      "source": [
        "The original dataset is provided by Karlsruhe Institute of Technology (http://www.cvlibs.net/datasets/kitti/eval_road.php). Their images are ±370x1270, but, for simlictiy, we will use 370x370 squares."
      ]
    },
    {
      "cell_type": "markdown",
      "id": "2072b7bb",
      "metadata": {
        "id": "2072b7bb"
      },
      "source": [
        "One can download the dataset from https://disk.yandex.ru/d/QPOw4hk84-se_w"
      ]
    },
    {
      "cell_type": "markdown",
      "id": "6fec3016",
      "metadata": {
        "id": "6fec3016"
      },
      "source": [
        "Here is an example of input data with corresponding ground truth:"
      ]
    },
    {
      "cell_type": "code",
      "source": [
        "!wget https://gist.githubusercontent.com/Yegorov/dc61c42aa4e89e139cd8248f59af6b3e/raw/20ac954e202fe6a038c2b4bb476703c02fe0df87/ya.py\n",
        "!chmod +x ya.py\n",
        "!./ya.py https://disk.yandex.ru/d/QPOw4hk84-se_w ./"
      ],
      "metadata": {
        "colab": {
          "base_uri": "https://localhost:8080/"
        },
        "id": "ZXICLLOu1wNS",
        "outputId": "5930a168-8468-4fe6-8057-81f5747d0348"
      },
      "id": "ZXICLLOu1wNS",
      "execution_count": 1,
      "outputs": [
        {
          "output_type": "stream",
          "name": "stdout",
          "text": [
            "--2022-08-26 05:34:40--  https://gist.githubusercontent.com/Yegorov/dc61c42aa4e89e139cd8248f59af6b3e/raw/20ac954e202fe6a038c2b4bb476703c02fe0df87/ya.py\n",
            "Resolving gist.githubusercontent.com (gist.githubusercontent.com)... 185.199.109.133, 185.199.108.133, 185.199.110.133, ...\n",
            "Connecting to gist.githubusercontent.com (gist.githubusercontent.com)|185.199.109.133|:443... connected.\n",
            "HTTP request sent, awaiting response... 200 OK\n",
            "Length: 723 [text/plain]\n",
            "Saving to: ‘ya.py’\n",
            "\n",
            "\rya.py                 0%[                    ]       0  --.-KB/s               \rya.py               100%[===================>]     723  --.-KB/s    in 0s      \n",
            "\n",
            "2022-08-26 05:34:40 (39.3 MB/s) - ‘ya.py’ saved [723/723]\n",
            "\n",
            "--2022-08-26 05:34:41--  https://downloader.disk.yandex.ru/disk/dcfc2bc0b23948739cc97644540d44b3cd69266353c0caca386c91be3d1a4a49/630893b1/_gIe7sqhiKGWvpES7oGEV4LBmE3mWZFnEs8QSgwfnop2zSm1XUdSGhsGQNyfSRay16J6z6P2MFmGUJp4elnHUA%3D%3D?uid=0&filename=data.zip&disposition=attachment&hash=Xsh98wiJiWn2t1I0wKL9nchDkGZQSAbOJ6BZci%2B3foEw4jU1THxu4mw5xq7jkf78q/J6bpmRyOJonT3VoXnDag%3D%3D%3A&limit=0&content_type=application%2Fzip&owner_uid=598766231&fsize=207633511&hid=7cc0185851525118e8abc1a575879e9f&media_type=compressed&tknv=v2\n",
            "Resolving downloader.disk.yandex.ru (downloader.disk.yandex.ru)... 77.88.21.127, 2a02:6b8::2:127\n",
            "Connecting to downloader.disk.yandex.ru (downloader.disk.yandex.ru)|77.88.21.127|:443... connected.\n",
            "HTTP request sent, awaiting response... 302 Found\n",
            "Location: https://s05vlx.storage.yandex.net/rdisk/dcfc2bc0b23948739cc97644540d44b3cd69266353c0caca386c91be3d1a4a49/630893b1/_gIe7sqhiKGWvpES7oGEV4LBmE3mWZFnEs8QSgwfnop2zSm1XUdSGhsGQNyfSRay16J6z6P2MFmGUJp4elnHUA==?uid=0&filename=data.zip&disposition=attachment&hash=Xsh98wiJiWn2t1I0wKL9nchDkGZQSAbOJ6BZci%2B3foEw4jU1THxu4mw5xq7jkf78q/J6bpmRyOJonT3VoXnDag%3D%3D%3A&limit=0&content_type=application%2Fzip&owner_uid=598766231&fsize=207633511&hid=7cc0185851525118e8abc1a575879e9f&media_type=compressed&tknv=v2&rtoken=fhOtpgmLylax&force_default=no&ycrid=na-e5b027b41afc1ba10f6613f335c4883b-downloader22f&ts=5e7219f978e40&s=4ffdcd4c8a95fbabcf3fcc9f315aff5ecb76e6ebcf2b2248a215662e33046a6d&pb=U2FsdGVkX1_C_KBefmlVqQv03_AxEXHGXdN5szjFKu0Fr8Dpx4d0-_tTpbzcv3LsJxpfDEmpcGUSAGQjE_k3oPpsLwiCySoie258RzpS0lA [following]\n",
            "--2022-08-26 05:34:42--  https://s05vlx.storage.yandex.net/rdisk/dcfc2bc0b23948739cc97644540d44b3cd69266353c0caca386c91be3d1a4a49/630893b1/_gIe7sqhiKGWvpES7oGEV4LBmE3mWZFnEs8QSgwfnop2zSm1XUdSGhsGQNyfSRay16J6z6P2MFmGUJp4elnHUA==?uid=0&filename=data.zip&disposition=attachment&hash=Xsh98wiJiWn2t1I0wKL9nchDkGZQSAbOJ6BZci%2B3foEw4jU1THxu4mw5xq7jkf78q/J6bpmRyOJonT3VoXnDag%3D%3D%3A&limit=0&content_type=application%2Fzip&owner_uid=598766231&fsize=207633511&hid=7cc0185851525118e8abc1a575879e9f&media_type=compressed&tknv=v2&rtoken=fhOtpgmLylax&force_default=no&ycrid=na-e5b027b41afc1ba10f6613f335c4883b-downloader22f&ts=5e7219f978e40&s=4ffdcd4c8a95fbabcf3fcc9f315aff5ecb76e6ebcf2b2248a215662e33046a6d&pb=U2FsdGVkX1_C_KBefmlVqQv03_AxEXHGXdN5szjFKu0Fr8Dpx4d0-_tTpbzcv3LsJxpfDEmpcGUSAGQjE_k3oPpsLwiCySoie258RzpS0lA\n",
            "Resolving s05vlx.storage.yandex.net (s05vlx.storage.yandex.net)... 5.45.236.133, 2a02:6b8:c34:a:0:41af:4adb:5c86\n",
            "Connecting to s05vlx.storage.yandex.net (s05vlx.storage.yandex.net)|5.45.236.133|:443... connected.\n",
            "HTTP request sent, awaiting response... 200 OK\n",
            "Length: 207633511 (198M) [application/zip]\n",
            "Saving to: ‘data.zip’\n",
            "\n",
            "ta.zip              100%[===================>] 198.01M  20.6MB/s    in 11s     \n",
            "\n",
            "2022-08-26 05:34:55 (17.6 MB/s) - ‘data.zip’ saved [207633511/207633511]\n",
            "\n"
          ]
        }
      ]
    },
    {
      "cell_type": "code",
      "source": [
        "!unzip data.zip"
      ],
      "metadata": {
        "colab": {
          "base_uri": "https://localhost:8080/"
        },
        "id": "rX-8KY07170X",
        "outputId": "a442ab51-631e-4f5a-e2a6-be9d6dc1a9b3"
      },
      "id": "rX-8KY07170X",
      "execution_count": 3,
      "outputs": [
        {
          "output_type": "stream",
          "name": "stdout",
          "text": [
            "Archive:  data.zip\n",
            "replace data/test/gt/0_um_road_000071.png? [y]es, [n]o, [A]ll, [N]one, [r]ename: "
          ]
        }
      ]
    },
    {
      "cell_type": "code",
      "source": [
        "!pip install albumentations==1.2.1"
      ],
      "metadata": {
        "colab": {
          "base_uri": "https://localhost:8080/"
        },
        "id": "Og1ewePkotM4",
        "outputId": "24491732-8530-4af1-a1fe-6fd39e0f18a8"
      },
      "id": "Og1ewePkotM4",
      "execution_count": 4,
      "outputs": [
        {
          "output_type": "stream",
          "name": "stdout",
          "text": [
            "Looking in indexes: https://pypi.org/simple, https://us-python.pkg.dev/colab-wheels/public/simple/\n",
            "Requirement already satisfied: albumentations==1.2.1 in /usr/local/lib/python3.7/dist-packages (1.2.1)\n",
            "Requirement already satisfied: scikit-image>=0.16.1 in /usr/local/lib/python3.7/dist-packages (from albumentations==1.2.1) (0.18.3)\n",
            "Requirement already satisfied: qudida>=0.0.4 in /usr/local/lib/python3.7/dist-packages (from albumentations==1.2.1) (0.0.4)\n",
            "Requirement already satisfied: opencv-python-headless>=4.1.1 in /usr/local/lib/python3.7/dist-packages (from albumentations==1.2.1) (4.6.0.66)\n",
            "Requirement already satisfied: scipy in /usr/local/lib/python3.7/dist-packages (from albumentations==1.2.1) (1.7.3)\n",
            "Requirement already satisfied: numpy>=1.11.1 in /usr/local/lib/python3.7/dist-packages (from albumentations==1.2.1) (1.21.6)\n",
            "Requirement already satisfied: PyYAML in /usr/local/lib/python3.7/dist-packages (from albumentations==1.2.1) (6.0)\n",
            "Requirement already satisfied: scikit-learn>=0.19.1 in /usr/local/lib/python3.7/dist-packages (from qudida>=0.0.4->albumentations==1.2.1) (1.0.2)\n",
            "Requirement already satisfied: typing-extensions in /usr/local/lib/python3.7/dist-packages (from qudida>=0.0.4->albumentations==1.2.1) (4.1.1)\n",
            "Requirement already satisfied: pillow!=7.1.0,!=7.1.1,>=4.3.0 in /usr/local/lib/python3.7/dist-packages (from scikit-image>=0.16.1->albumentations==1.2.1) (7.1.2)\n",
            "Requirement already satisfied: tifffile>=2019.7.26 in /usr/local/lib/python3.7/dist-packages (from scikit-image>=0.16.1->albumentations==1.2.1) (2021.11.2)\n",
            "Requirement already satisfied: networkx>=2.0 in /usr/local/lib/python3.7/dist-packages (from scikit-image>=0.16.1->albumentations==1.2.1) (2.6.3)\n",
            "Requirement already satisfied: imageio>=2.3.0 in /usr/local/lib/python3.7/dist-packages (from scikit-image>=0.16.1->albumentations==1.2.1) (2.9.0)\n",
            "Requirement already satisfied: PyWavelets>=1.1.1 in /usr/local/lib/python3.7/dist-packages (from scikit-image>=0.16.1->albumentations==1.2.1) (1.3.0)\n",
            "Requirement already satisfied: matplotlib!=3.0.0,>=2.0.0 in /usr/local/lib/python3.7/dist-packages (from scikit-image>=0.16.1->albumentations==1.2.1) (3.2.2)\n",
            "Requirement already satisfied: cycler>=0.10 in /usr/local/lib/python3.7/dist-packages (from matplotlib!=3.0.0,>=2.0.0->scikit-image>=0.16.1->albumentations==1.2.1) (0.11.0)\n",
            "Requirement already satisfied: python-dateutil>=2.1 in /usr/local/lib/python3.7/dist-packages (from matplotlib!=3.0.0,>=2.0.0->scikit-image>=0.16.1->albumentations==1.2.1) (2.8.2)\n",
            "Requirement already satisfied: pyparsing!=2.0.4,!=2.1.2,!=2.1.6,>=2.0.1 in /usr/local/lib/python3.7/dist-packages (from matplotlib!=3.0.0,>=2.0.0->scikit-image>=0.16.1->albumentations==1.2.1) (3.0.9)\n",
            "Requirement already satisfied: kiwisolver>=1.0.1 in /usr/local/lib/python3.7/dist-packages (from matplotlib!=3.0.0,>=2.0.0->scikit-image>=0.16.1->albumentations==1.2.1) (1.4.4)\n",
            "Requirement already satisfied: six>=1.5 in /usr/local/lib/python3.7/dist-packages (from python-dateutil>=2.1->matplotlib!=3.0.0,>=2.0.0->scikit-image>=0.16.1->albumentations==1.2.1) (1.15.0)\n",
            "Requirement already satisfied: joblib>=0.11 in /usr/local/lib/python3.7/dist-packages (from scikit-learn>=0.19.1->qudida>=0.0.4->albumentations==1.2.1) (1.1.0)\n",
            "Requirement already satisfied: threadpoolctl>=2.0.0 in /usr/local/lib/python3.7/dist-packages (from scikit-learn>=0.19.1->qudida>=0.0.4->albumentations==1.2.1) (3.1.0)\n"
          ]
        }
      ]
    },
    {
      "cell_type": "code",
      "execution_count": 29,
      "id": "a07565b2",
      "metadata": {
        "id": "a07565b2"
      },
      "outputs": [],
      "source": [
        "import os\n",
        "import cv2\n",
        "import numpy as np\n",
        "\n",
        "import torchvision.transforms as transforms\n",
        "from torch.utils.data import Dataset\n",
        "\n",
        "import matplotlib.pyplot as plt\n",
        "%matplotlib inline"
      ]
    },
    {
      "cell_type": "code",
      "source": [
        "from math import ceil\n",
        "\n",
        "number_subsamples = 4\n",
        "original_height, original_width = 370, 370\n",
        "min_height, min_width = (ceil(i/ 2**number_subsamples + 2) * 2**number_subsamples for i in (original_height, original_width))\n",
        "min_height, min_width"
      ],
      "metadata": {
        "colab": {
          "base_uri": "https://localhost:8080/"
        },
        "id": "zA69xwKokU-y",
        "outputId": "720052c0-dea5-48a1-d47d-52c5b0543f1f"
      },
      "id": "zA69xwKokU-y",
      "execution_count": 30,
      "outputs": [
        {
          "output_type": "execute_result",
          "data": {
            "text/plain": [
              "(416, 416)"
            ]
          },
          "metadata": {},
          "execution_count": 30
        }
      ]
    },
    {
      "cell_type": "code",
      "source": [
        "from albumentations.core.composition import OneOf\n",
        "import albumentations as A\n",
        "from albumentations.pytorch.transforms import ToTensorV2\n",
        "\n",
        "img_transformation = dict()\n",
        "img_transformation['aug'] = A.Compose([\n",
        "    A.Sequential([\n",
        "        A.OneOf([ #colors\n",
        "            A.ColorJitter(brightness=1.0, saturation=1.0, hue=1.0, p=0.7),\n",
        "            A.CLAHE(p=0.3),\n",
        "            A.FancyPCA(p=0.5),\n",
        "            A.transforms.InvertImg(p=0.2),\n",
        "            A.transforms.RGBShift(p=0.4)\n",
        "        ], p=0.7),\n",
        "        A.OneOf([ #blur \n",
        "            A.AdvancedBlur(blur_limit=(21, 51), sigmaX_limit=(0.5, 2.5), sigmaY_limit=(0.5, 2.5), p=0.5),\n",
        "            A.transforms.Downscale(scale_min=0.3, scale_max=0.7, p=0.5),\n",
        "            A.Emboss(p=0.3),\n",
        "            A.ISONoise(p=0.4)\n",
        "        ], p=0.5),\n",
        "        A.OneOf([ #Channels\n",
        "            A.dropout.channel_dropout.ChannelDropout((1, 2)),\n",
        "            A.transforms.ChannelShuffle(),\n",
        "        ], p=0.3),\n",
        "        A.OneOf([ #weather\n",
        "            A.transforms.RandomFog(p=0.4),\n",
        "            A.transforms.RandomRain(p=0.6),\n",
        "            A.transforms.RandomShadow(p=0.5),\n",
        "            A.transforms.RandomSunFlare(p=0.4, src_radius=100)\n",
        "        ], p=0.4)\n",
        "    ], p=0.7),\n",
        "    A.OneOf([ #geometric\n",
        "        A.geometric.rotate.Rotate(limit=40, p=0.6),\n",
        "        A.geometric.transforms.Affine(scale=(0.7, 1.0), translate_percent=(0.05, 0.1), rotate=(-34, 34), keep_ratio=True, p=0.6),\n",
        "        A.crops.transforms.RandomSizedCrop(min_max_height=(int(0.6 * original_height), int(original_height)),\n",
        "                                           height=original_height, width=original_width, w2h_ratio=1.0, p=0.6),\n",
        "    ], p=0.7),\n",
        "    A.HorizontalFlip(p=0.5),\n",
        "    A.PadIfNeeded(min_height, min_width, always_apply=True, border_mode=0)\n",
        "])\n",
        "img_transformation['eval'] = A.Compose([A.PadIfNeeded(min_height, min_width, always_apply=True, border_mode=0), \n",
        "                                        ToTensorV2(always_apply=True)])\n",
        "img_transformation['conclusion'] = A.Compose([A.CenterCrop(height=original_height, width=original_width, always_apply=True)])"
      ],
      "metadata": {
        "id": "xIJhYBoQjdeL"
      },
      "id": "xIJhYBoQjdeL",
      "execution_count": 31,
      "outputs": []
    },
    {
      "cell_type": "code",
      "execution_count": 32,
      "id": "2d6665d8",
      "metadata": {
        "id": "2d6665d8"
      },
      "outputs": [],
      "source": [
        "def get_paths(path):\n",
        "    _, _, filenames = next(os.walk(path))\n",
        "\n",
        "    images_paths = []\n",
        "    for filename in sorted(filenames):            \n",
        "        images_paths.append(os.path.join(path, filename))\n",
        "    \n",
        "    return np.stack(images_paths)\n",
        "\n",
        "class RoadDataset(Dataset):\n",
        "    \"\"\"Feel free to rewrite it. For ex. cache all images in RAM to increase training speed\"\"\"\n",
        "    def __init__(self, images, masks, transform, aug=None,):\n",
        "        self.images = sorted(images)\n",
        "        self.masks = sorted(masks)\n",
        "        self.transform = transform\n",
        "        self.aug = aug\n",
        "        self.cache = dict()\n",
        "    \n",
        "    def __len__(self):\n",
        "        return len(self.images)\n",
        "    \n",
        "    def __getitem__(self, idx):\n",
        "        if idx in self.cache:\n",
        "            image, mask = self.cache[idx] \n",
        "        else:     \n",
        "            im_name = self.images[idx]\n",
        "            mask_name = self.masks[idx]\n",
        "            \n",
        "            image = (cv2.imread(im_name)[:,:,::-1]) # / 255.0).astype(np.float32)  # ::-1 to convert from BGR to RGB\n",
        "            mask = cv2.imread(mask_name, cv2.IMREAD_GRAYSCALE)\n",
        "            mask = (mask > 0).astype(np.float32)\n",
        "\n",
        "            self.cache[idx] = (image, mask)\n",
        "        \n",
        "        if self.aug:\n",
        "            sample = self.aug(\n",
        "                image=image,\n",
        "                mask=mask,\n",
        "            )\n",
        "        else:\n",
        "            sample = {\n",
        "                'image': image,\n",
        "                'mask': mask,\n",
        "            }\n",
        "        sample = self.transform(image=sample['image'], mask=sample['mask'])\n",
        "        return sample"
      ]
    },
    {
      "cell_type": "code",
      "execution_count": 94,
      "id": "57f2b951",
      "metadata": {
        "id": "57f2b951"
      },
      "outputs": [],
      "source": [
        "from sklearn.model_selection import train_test_split\n",
        "\n",
        "\n",
        "train = (get_paths(\"data/train/images\"), get_paths(\"data/train/gt\"))\n",
        "x_train, x_valid, y_train, y_valid = train_test_split(train[0], train[1], test_size=0.2, random_state=1, shuffle=True)\n",
        "\n",
        "train = (x_train, y_train)\n",
        "valid = (x_valid, y_valid)\n",
        "test = (get_paths('data/test/images'), get_paths('data/test/gt'))\n",
        "\n"
      ]
    },
    {
      "cell_type": "code",
      "source": [
        "datasets = {\n",
        "    'train': RoadDataset(train[0], train[1], transform=img_transformation['eval'], aug=img_transformation['aug']),\n",
        "    'valid': RoadDataset(valid[0], valid[1], transform=img_transformation['eval'], aug=img_transformation['aug']),\n",
        "    'test': RoadDataset(test[0], test[1], transform=img_transformation['eval'], aug=None)\n",
        "}"
      ],
      "metadata": {
        "id": "iQhKcb1KlUjA"
      },
      "id": "iQhKcb1KlUjA",
      "execution_count": 95,
      "outputs": []
    },
    {
      "cell_type": "code",
      "execution_count": 109,
      "id": "9056519f",
      "metadata": {
        "colab": {
          "base_uri": "https://localhost:8080/",
          "height": 500
        },
        "id": "9056519f",
        "outputId": "2dfe2e51-5eb2-4dcb-8ae5-9da5329158ca"
      },
      "outputs": [
        {
          "output_type": "stream",
          "name": "stdout",
          "text": [
            "torch.uint8\n",
            "shape of the image: 288 is torch.Size([3, 416, 416])\n",
            "shape of the mask: 288 is torch.Size([416, 416]), max: 1.0, min: 0.0\n"
          ]
        },
        {
          "output_type": "execute_result",
          "data": {
            "text/plain": [
              "<matplotlib.image.AxesImage at 0x7fdd316a0fd0>"
            ]
          },
          "metadata": {},
          "execution_count": 109
        },
        {
          "output_type": "display_data",
          "data": {
            "text/plain": [
              "<Figure size 1080x648 with 2 Axes>"
            ],
            "image/png": "[encoded data removed]"
          },
          "metadata": {
            "needs_background": "light"
          }
        }
      ],
      "source": [
        "import numpy as np\n",
        "import torch\n",
        "from torchvision.transforms import CenterCrop\n",
        "\n",
        "\n",
        "idx = int(np.random.randint(0, len(datasets['train'])))\n",
        "sample = datasets['train'][idx]\n",
        "print(sample['image'].dtype)\n",
        "print(f'shape of the image: {idx} is {sample[\"image\"].shape}')\n",
        "print(f'shape of the mask: {idx} is {sample[\"mask\"].shape}, max: {torch.max(sample[\"mask\"])}, min: {torch.min(sample[\"mask\"])}')\n",
        "\n",
        "\n",
        "plt.figure(figsize=(15, 9))\n",
        "plt.subplot(1, 2, 1)\n",
        "plt.imshow(sample['image'].detach().cpu().numpy().transpose((1, 2, 0)))\n",
        "plt.subplot(1, 2, 2)\n",
        "plt.imshow(np.squeeze(sample['mask']), cmap='gray', vmin=0, vmax=1)"
      ]
    },
    {
      "cell_type": "markdown",
      "id": "e7a8986f",
      "metadata": {
        "id": "e7a8986f"
      },
      "source": [
        "Workflow:\n",
        "---\n",
        "* Choose correct loss function, write training loop and code for testing. Feel free to use previous HW for inspiration. \n",
        "* Train any segmentation neural network from scratch (for example U-Net) and achieve >= 0.75 IoU on test set (40% points). See function to calculate the metric below.\n",
        "* Use any pretrained model for image classification, convert it for segmentation by adding decoder (don't forget skip-connections) or usign dilated convolutions and achieve >= 0.87 IoU  on test set (60% points).\n",
        "\n",
        "You're not allowed to do only one thing: train your network on test set.\n",
        "\n",
        "----\n",
        "Your final solution will consist of an ipython notebook with code (for final networks training + any experiments with data) and test metric calculation.\n",
        "\n",
        "Feel free to ask in Telegram chat if something is not clear :3\n"
      ]
    },
    {
      "cell_type": "code",
      "execution_count": 36,
      "id": "d91bc236",
      "metadata": {
        "colab": {
          "base_uri": "https://localhost:8080/"
        },
        "id": "d91bc236",
        "outputId": "553bf8b3-29f3-4fcd-ba6a-b011684ddf7b"
      },
      "outputs": [
        {
          "output_type": "stream",
          "name": "stdout",
          "text": [
            "Dataset length 648\n"
          ]
        }
      ],
      "source": [
        "print(f\"Dataset length {len(train_dataset)}\")"
      ]
    },
    {
      "cell_type": "markdown",
      "id": "057ee74d",
      "metadata": {
        "id": "057ee74d"
      },
      "source": [
        "Dataset is small so actively use data augmentation: rotations, flip, color-change etc. to prevent overfitting.\n",
        "\n",
        "Most likely you'll have to pad your images to 512x512 (it divides by 2^5=32, like U-Net wants). Use PadIfNeeded from Albumentations and central crop (see below) after prediction to calculate loss/metrics (you don't want to pay attention on padded values).\n",
        "\n",
        "----\n",
        "There is a hard data class imbalance in dataset, so the network output will be biased toward \"zero\" class. You can either tune the minimal probability threshold for the \"road\" class, or add class weights in optimized loss. You also can try to use softIoU or DICE loss."
      ]
    },
    {
      "cell_type": "code",
      "source": [
        "from torch import nn\n",
        "from torchvision.transforms import CenterCrop\n",
        "\n",
        "\n",
        "\n",
        "class Concatenate(nn.Module):\n",
        "    def __init__(self, dim=1):\n",
        "        super(Concatenate, self).__init__()\n",
        "        self.dim = 1\n",
        "    \n",
        "    def forward(self, first, second):\n",
        "        return torch.concat((first, second), dim=self.dim)\n",
        "\n"
      ],
      "metadata": {
        "id": "-I7vwzW2yrSZ"
      },
      "id": "-I7vwzW2yrSZ",
      "execution_count": 37,
      "outputs": []
    },
    {
      "cell_type": "code",
      "source": [
        "from typing import Union\n",
        "\n",
        "\n",
        "class DownSampler(nn.Module):\n",
        "    def __init__(self, in_channels: int,\n",
        "                 out_channels: int,\n",
        "                 activation: nn.Module,\n",
        "                 normalization: nn.Module,\n",
        "                 dropout: nn.Module=None,\n",
        "                 padding: Union[str, int]='same',\n",
        "                 pooling: bool=True):\n",
        "        super().__init__()\n",
        "        self.in_channels = in_channels\n",
        "        self.out_channels = out_channels\n",
        "        self.padding = padding\n",
        "        self.pooling = pooling\n",
        "        self.activation = activation\n",
        "        self.normalization = normalization\n",
        "        self.dropout = dropout\n",
        "\n",
        "        self.triplets = nn.Sequential(\n",
        "                            nn.Conv2d(self.in_channels, self.out_channels, kernel_size=3, stride=1, padding=self.padding, bias=False),\n",
        "                            self.normalization(num_channels=self.out_channels),\n",
        "                            self.activation(),\n",
        "                            nn.Conv2d(self.out_channels, self.out_channels, kernel_size=3, stride=1, padding=self.padding, bias=False),\n",
        "                            self.normalization(num_channels=self.out_channels),\n",
        "                            self.activation()\n",
        "        )\n",
        "    \n",
        "        self.before_downsampling = None\n",
        "        if self.pooling:\n",
        "            self.downsampler = nn.MaxPool2d(kernel_size=2, stride=2, padding=0)\n",
        "    \n",
        "    def forward(self, input):\n",
        "        input = self.triplets(input)\n",
        "\n",
        "        if self.dropout:\n",
        "            input = self.dropout(input)\n",
        "        if self.pooling:\n",
        "            self.before_downsampling = torch.clone(input)\n",
        "            input = self.downsampler(input)\n",
        "        return input\n",
        "\n",
        "        "
      ],
      "metadata": {
        "id": "nCTgCydXKBi-"
      },
      "id": "nCTgCydXKBi-",
      "execution_count": 73,
      "outputs": []
    },
    {
      "cell_type": "code",
      "source": [
        "from functools import partial\n",
        "\n",
        "input = torch.rand(size=(5, 3, 128, 128))\n",
        "layer = DownSampler(3, 10, nn.ELU, partial(nn.GroupNorm, num_groups=2), nn.Dropout2d(0.2))\n",
        "downgraded = layer(input)\n",
        "downgraded.shape"
      ],
      "metadata": {
        "colab": {
          "base_uri": "https://localhost:8080/"
        },
        "id": "Oqpyh2XoMvHR",
        "outputId": "9eba6112-b103-4bb2-de2b-eabf12eada79"
      },
      "id": "Oqpyh2XoMvHR",
      "execution_count": 74,
      "outputs": [
        {
          "output_type": "execute_result",
          "data": {
            "text/plain": [
              "torch.Size([5, 10, 64, 64])"
            ]
          },
          "metadata": {},
          "execution_count": 74
        }
      ]
    },
    {
      "cell_type": "code",
      "source": [
        "class UpSampler(nn.Module):\n",
        "    def __init__(self, in_channels: int,\n",
        "                 out_channels: int,\n",
        "                 activation: nn.Module,\n",
        "                 normalization: nn.Module,\n",
        "                 dropout: nn.Module=None,\n",
        "                 up_mode: str='transpose',\n",
        "                 padding: Union[str, int]='same'):\n",
        "        super().__init__()\n",
        "        self.in_channels = in_channels\n",
        "        self.out_channels = out_channels\n",
        "        self.activation = activation\n",
        "        self.normalization = normalization\n",
        "        self.up_mode = up_mode\n",
        "        self.padding = padding\n",
        "        self.dropout = dropout\n",
        "\n",
        "        self.triplets = nn.Sequential(\n",
        "                            nn.Conv2d(self.in_channels, self.out_channels, kernel_size=3, stride=1, padding=self.padding, bias=False),\n",
        "                            self.normalization(num_channels=self.out_channels),\n",
        "                            self.activation(),\n",
        "                            nn.Conv2d(self.out_channels, self.out_channels, kernel_size=3, stride=1, padding=self.padding, bias=False),\n",
        "                            self.normalization(num_channels=self.out_channels),\n",
        "                            self.activation()\n",
        "        )\n",
        "        \n",
        "        self.upsampler = self._get_upsampler(self.out_channels, self.out_channels, self.up_mode)\n",
        "        \n",
        "    def _get_upsampler(self, in_channels: int,\n",
        "                       out_channels: int,\n",
        "                       up_mode: str = 'transpose'):\n",
        "        if up_mode == 'transpose':\n",
        "            return nn.ConvTranspose2d(in_channels, out_channels, kernel_size=2, stride=2, padding=0)\n",
        "        else:\n",
        "            return nn.Upsample(scale_factor=2.0, mode=up_mode)\n",
        "\n",
        "    def forward(self, input):\n",
        "        input = self.triplets(input)\n",
        "        if self.dropout:\n",
        "            input = self.dropout(input)\n",
        "        input = self.upsampler(input)\n",
        "        return input\n",
        "\n"
      ],
      "metadata": {
        "id": "MRvp_OwNPXY-"
      },
      "id": "MRvp_OwNPXY-",
      "execution_count": 75,
      "outputs": []
    },
    {
      "cell_type": "code",
      "source": [
        "upsampler = UpSampler(10, 20, nn.ELU, partial(nn.GroupNorm, num_groups=2), nn.Dropout2d(p=0.2))\n",
        "upsampler(downgraded).shape"
      ],
      "metadata": {
        "colab": {
          "base_uri": "https://localhost:8080/"
        },
        "id": "mWyXLyJZU9e9",
        "outputId": "28f2d5db-373d-4298-f322-4bf17045c6c4"
      },
      "id": "mWyXLyJZU9e9",
      "execution_count": 76,
      "outputs": [
        {
          "output_type": "execute_result",
          "data": {
            "text/plain": [
              "torch.Size([5, 20, 128, 128])"
            ]
          },
          "metadata": {},
          "execution_count": 76
        }
      ]
    },
    {
      "cell_type": "code",
      "source": [
        "from torchvision.transforms import CenterCrop\n",
        "\n",
        "class UNet(nn.Module):\n",
        "    def __init__(self, num_downsample: int,\n",
        "                 in_channels: int,\n",
        "                 out_channels: int,\n",
        "                 start_filters: int,\n",
        "                 activation: nn.Module,\n",
        "                 normalization: nn.Module,\n",
        "                 dropout: nn.Module=None,\n",
        "                 up_mode: str='transpose',\n",
        "                 padding: Union[str, int]='same'):\n",
        "        super().__init__()\n",
        "        self.num_downsample = num_downsample\n",
        "        self.in_channels = in_channels\n",
        "        self.out_channels = out_channels\n",
        "        self.start_filters = start_filters\n",
        "        self.activation = activation\n",
        "        self.normalization = normalization\n",
        "        self.up_mode = up_mode\n",
        "        self.padding = padding\n",
        "        self.dropout = dropout\n",
        "        self.concater = Concatenate()\n",
        "\n",
        "        self.downsample_layers = nn.Sequential()\n",
        "        for i in range(num_downsample):\n",
        "            cur_in_channels = self.in_channels if i == 0 else cur_out_channels\n",
        "            cur_out_channels = self.start_filters * 2 ** i\n",
        "            self.downsample_layers.add_module(f'down_{i}', DownSampler(cur_in_channels, cur_out_channels, self.activation,\\\n",
        "                                                                       self.normalization, self.dropout, self.padding, pooling=True))\n",
        "        \n",
        "        self.bridge = UpSampler(cur_out_channels, cur_out_channels, self.activation,\\\n",
        "                                self.normalization, self.dropout, padding=self.padding)\n",
        "        \n",
        "        self.upsample_layers = nn.Sequential()\n",
        "        for i in range(num_downsample - 1):\n",
        "            cur_in_channels = 2 * cur_out_channels\n",
        "            cur_out_channels = cur_in_channels // 4\n",
        "            self.upsample_layers.add_module(f'up_{i}', UpSampler(cur_in_channels, cur_out_channels, self.activation,\\\n",
        "                                                                 self.normalization, self.dropout, self.up_mode, self.padding))\n",
        "        \n",
        "\n",
        "        self.head = nn.Sequential(DownSampler(2 * cur_out_channels, cur_out_channels, self.activation,\\\n",
        "                                              self.normalization, self.dropout, self.padding, pooling=False),\n",
        "                                  nn.Conv2d(cur_out_channels, self.out_channels, kernel_size=1, stride=1, padding=0))\n",
        "                                  # nn.Softmax())\n",
        "        \n",
        "    def forward(self, input):\n",
        "        input = self.downsample_layers(input)\n",
        "        input = self.bridge(input)\n",
        "        for i in range(len(self.upsample_layers)):\n",
        "            croper = CenterCrop(size=input.shape[2:])\n",
        "            skip_connection = croper(self.downsample_layers[-(i + 1)].before_downsampling)\n",
        "            input = self.concater(input, skip_connection)\n",
        "            input = self.upsample_layers[i](input)\n",
        "\n",
        "        croper = CenterCrop(size=input.shape[2:])\n",
        "        skip_connection = croper(self.downsample_layers[0].before_downsampling)\n",
        "        input = self.concater(input, skip_connection)\n",
        "        input = self.head(input)\n",
        "        return input\n",
        "\n",
        "\n",
        "\n",
        "\n"
      ],
      "metadata": {
        "id": "4oWoYyVYXQEr"
      },
      "id": "4oWoYyVYXQEr",
      "execution_count": 81,
      "outputs": []
    },
    {
      "cell_type": "code",
      "source": [
        "from torchsummary import summary\n",
        "\n",
        "net = UNet(num_downsample=4,\n",
        "           in_channels=3,\n",
        "           out_channels=1,\n",
        "           start_filters=32,\n",
        "           activation=nn.ELU,\n",
        "           normalization=partial(nn.GroupNorm, num_groups=8),\n",
        "           dropout=nn.Dropout2d(p=0.2))\n",
        "summary(net, (3, 512, 512))\n"
      ],
      "metadata": {
        "id": "oS-v-hVTJC0z"
      },
      "id": "oS-v-hVTJC0z",
      "execution_count": null,
      "outputs": []
    },
    {
      "cell_type": "code",
      "source": [
        "input = torch.rand(size=(5, 3, 128, 128))\n",
        "output = net(input)\n",
        "output.shape"
      ],
      "metadata": {
        "colab": {
          "base_uri": "https://localhost:8080/"
        },
        "id": "ArSXdZbJOhpM",
        "outputId": "a523ce24-a8ac-40a3-9666-a7297aa2fc72"
      },
      "id": "ArSXdZbJOhpM",
      "execution_count": 83,
      "outputs": [
        {
          "output_type": "execute_result",
          "data": {
            "text/plain": [
              "torch.Size([5, 1, 128, 128])"
            ]
          },
          "metadata": {},
          "execution_count": 83
        }
      ]
    },
    {
      "cell_type": "code",
      "source": [
        "del net"
      ],
      "metadata": {
        "id": "CJpxYJcuXPkv"
      },
      "id": "CJpxYJcuXPkv",
      "execution_count": 85,
      "outputs": []
    },
    {
      "cell_type": "markdown",
      "source": [
        "# Training loop"
      ],
      "metadata": {
        "id": "sUaCvmnCXB_r"
      },
      "id": "sUaCvmnCXB_r"
    },
    {
      "cell_type": "code",
      "source": [
        "from tqdm.notebook import tqdm\n",
        "\n",
        "class Trainer():\n",
        "    def __init__(self, \n",
        "                 model: nn.Module,\n",
        "                 device: torch.device,\n",
        "                 criterion: nn.Module,\n",
        "                 optimizer: torch.optim.Optimizer,\n",
        "                 train_dataloader,\n",
        "                 valid_dataloader, \n",
        "                 lr_scheduler: torch.optim.lr_scheduler,\n",
        "                 epochs: int=10):\n",
        "        self.model = model\n",
        "        self.device = device\n",
        "        self.criterion = criterion\n",
        "        self.optimizer = optimizer\n",
        "        self.train_dataloader = train_dataloader\n",
        "        self.valid_dataloader = valid_dataloader\n",
        "        self.lr_scheduler = lr_scheduler\n",
        "        self.epochs = epochs\n",
        "\n",
        "        self.train_loss = []\n",
        "        self.valid_loss = []\n",
        "        self.learning_rate = []\n",
        "\n",
        "    def _train(self):\n",
        "        self.model.train()\n",
        "        self.model.to(device)\n",
        "\n",
        "        train_loss_per_epoch = []\n",
        "        for input, target in tqdm(self.train_dataloader, 'Training', leave=False):\n",
        "            input, target = input.to(self.device), target.to(self.device)\n",
        "\n",
        "            out = self.model(input)\n",
        "            loss = self.criterion(out, target)\n",
        "\n",
        "            self.optimizer.zero_grad()\n",
        "            loss.backward()\n",
        "            self.optimizer.step()\n",
        "\n",
        "            train_loss_per_epoch.append(loss.item())\n",
        "\n",
        "        self.train_loss.append(np.mean(train_loss_per_epoch))\n",
        "        self.learning_rate.append(self.optimizer.param_groups[0]['lr'])\n",
        "\n",
        "    @torch.no_grad()\n",
        "    def _valid(self):\n",
        "        self.model.eval()\n",
        "        self.model.to(device)\n",
        "\n",
        "        valid_loss_per_epoch = []\n",
        "        for input, target in tqdm(self.valid_dataloader, 'Validation', leave=False):\n",
        "            input, target = input.to(self.device), target.to(self.device)\n",
        "            out = self.model(input)\n",
        "            valid_loss_per_epoch.append(out.item())\n",
        "\n",
        "        self.valid_loss.append(np.mean(valid_loss_per_epoch))\n",
        "    \n",
        "    def run_training(self):\n",
        "        for _ in tqdm(range(self.epochs, desc='Epoch')):\n",
        "            self._train()\n",
        "            self._valid()\n",
        "\n",
        "        if self.lr_scheduler is not None:\n",
        "            if (self.valid_dataloader is not None) and (self.lr_scheduler.__class__.__name__ == 'ReduceLROnPlateau'):\n",
        "                self.lr_scheduler.step(self.valid_loss[-1])\n",
        "            else:\n",
        "                self.lr_scheduler.step()\n",
        "        \n",
        "        return self.train_loss. self.valid_loss, self.learning_rate\n",
        "\n"
      ],
      "metadata": {
        "id": "Hsrww8lFYB59"
      },
      "id": "Hsrww8lFYB59",
      "execution_count": 88,
      "outputs": []
    },
    {
      "cell_type": "code",
      "source": [
        "from torch.utils.data import DataLoader\n",
        "\n",
        "if torch.cuda.is_available():\n",
        "    device = torch.device('cuda')\n",
        "else:\n",
        "    device = torch.device('cpu')\n",
        "\n",
        "model = UNet(num_downsample=4,\n",
        "             in_channels=3,\n",
        "             out_channels=1,\n",
        "             start_filters=32,\n",
        "             activation=nn.ELU,\n",
        "             normalization=partial(nn.GroupNorm, num_groups=8),\n",
        "             dropout=nn.Dropout2d(p=0.2))\n",
        "\n",
        "dataloaders = dict()\n",
        "for data_type in datasets:\n",
        "    dataloaders[data_type] = DataLoader(datasets[data_type], batch_size=50, shuffle=True, num_workers=2)\n",
        "\n",
        "\n",
        "\n",
        "\n",
        "\n",
        "criterion = torch.nn.CrossEntropyLoss()\n",
        "optimizer = torch.optim.SGD(model.parameters(), lr=0.001)\n"
      ],
      "metadata": {
        "id": "1fAvtrQ8jXwi"
      },
      "id": "1fAvtrQ8jXwi",
      "execution_count": null,
      "outputs": []
    },
    {
      "cell_type": "markdown",
      "id": "1c0dcf8f",
      "metadata": {
        "id": "1c0dcf8f"
      },
      "source": [
        "Good luck!"
      ]
    },
    {
      "cell_type": "code",
      "execution_count": null,
      "id": "50a8610c",
      "metadata": {
        "id": "50a8610c"
      },
      "outputs": [],
      "source": [
        "def calc_iou(prediction, ground_truth):\n",
        "    n_images = len(prediction)\n",
        "    intersection, union = 0, 0\n",
        "    for i in range(n_images):\n",
        "        intersection += np.logical_and(prediction[i] > 0, ground_truth[i] > 0).astype(np.float32).sum() \n",
        "        union += np.logical_or(prediction[i] > 0, ground_truth[i] > 0).astype(np.float32).sum()\n",
        "    return float(intersection) / union"
      ]
    },
    {
      "cell_type": "code",
      "execution_count": null,
      "id": "0483e274",
      "metadata": {
        "id": "0483e274"
      },
      "outputs": [],
      "source": [
        "def central_crop(images, size):\n",
        "    current_size = images.size(2)\n",
        "    border_len = (current_size - size) // 2\n",
        "    images = images[:, :, border_len:current_size-border_len, border_len:current_size-border_len]"
      ]
    },
    {
      "cell_type": "code",
      "execution_count": 111,
      "id": "bb8f1c46",
      "metadata": {
        "id": "bb8f1c46",
        "colab": {
          "base_uri": "https://localhost:8080/"
        },
        "outputId": "d1d99b31-c32f-4c50-a5b0-37326f97ee99"
      },
      "outputs": [
        {
          "output_type": "execute_result",
          "data": {
            "text/plain": [
              "torch.Size([5, 1, 32, 32])"
            ]
          },
          "metadata": {},
          "execution_count": 111
        }
      ],
      "source": [
        "torch.rand(size=(5, 1, 32, 32)).shape"
      ]
    },
    {
      "cell_type": "code",
      "source": [
        ""
      ],
      "metadata": {
        "id": "9ua8_GL2qy1B"
      },
      "id": "9ua8_GL2qy1B",
      "execution_count": null,
      "outputs": []
    }
  ],
  "metadata": {
    "kernelspec": {
      "display_name": "Python 3",
      "language": "python",
      "name": "python3"
    },
    "language_info": {
      "codemirror_mode": {
        "name": "ipython",
        "version": 3
      },
      "file_extension": ".py",
      "mimetype": "text/x-python",
      "name": "python",
      "nbconvert_exporter": "python",
      "pygments_lexer": "ipython3",
      "version": "3.6.13"
    },
    "colab": {
      "name": "homework-part1-segmentation.ipynb",
      "provenance": []
    }
  },
  "nbformat": 4,
  "nbformat_minor": 5
}