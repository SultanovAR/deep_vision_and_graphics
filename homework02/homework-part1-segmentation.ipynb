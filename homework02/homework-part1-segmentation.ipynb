{
  "cells": [
    {
      "cell_type": "markdown",
      "id": "03840993",
      "metadata": {
        "id": "03840993"
      },
      "source": [
        "**Neural networks for road segmentation**\n",
        "========================"
      ]
    },
    {
      "cell_type": "markdown",
      "id": "7def38b0",
      "metadata": {
        "id": "7def38b0"
      },
      "source": [
        "Your next task is to train neural network to segment road on images from car cams."
      ]
    },
    {
      "cell_type": "markdown",
      "id": "9cdf93db",
      "metadata": {
        "id": "9cdf93db"
      },
      "source": [
        "The original dataset is provided by Karlsruhe Institute of Technology (http://www.cvlibs.net/datasets/kitti/eval_road.php). Their images are ±370x1270, but, for simlictiy, we will use 370x370 squares."
      ]
    },
    {
      "cell_type": "markdown",
      "id": "2072b7bb",
      "metadata": {
        "id": "2072b7bb"
      },
      "source": [
        "One can download the dataset from https://disk.yandex.ru/d/QPOw4hk84-se_w"
      ]
    },
    {
      "cell_type": "markdown",
      "id": "6fec3016",
      "metadata": {
        "id": "6fec3016"
      },
      "source": [
        "Here is an example of input data with corresponding ground truth:"
      ]
    },
    {
      "cell_type": "code",
      "source": [
        "!wget https://gist.githubusercontent.com/Yegorov/dc61c42aa4e89e139cd8248f59af6b3e/raw/20ac954e202fe6a038c2b4bb476703c02fe0df87/ya.py\n",
        "!chmod +x ya.py\n",
        "!./ya.py https://disk.yandex.ru/d/QPOw4hk84-se_w ./"
      ],
      "metadata": {
        "colab": {
          "base_uri": "https://localhost:8080/"
        },
        "id": "ZXICLLOu1wNS",
        "outputId": "be86863f-89c1-46c0-f9ae-2b543ba5436c"
      },
      "id": "ZXICLLOu1wNS",
      "execution_count": 21,
      "outputs": [
        {
          "output_type": "stream",
          "name": "stdout",
          "text": [
            "--2022-08-08 14:24:08--  https://gist.githubusercontent.com/Yegorov/dc61c42aa4e89e139cd8248f59af6b3e/raw/20ac954e202fe6a038c2b4bb476703c02fe0df87/ya.py\n",
            "Resolving gist.githubusercontent.com (gist.githubusercontent.com)... 185.199.108.133, 185.199.110.133, 185.199.111.133, ...\n",
            "Connecting to gist.githubusercontent.com (gist.githubusercontent.com)|185.199.108.133|:443... connected.\n",
            "HTTP request sent, awaiting response... 200 OK\n",
            "Length: 723 [text/plain]\n",
            "Saving to: ‘ya.py.1’\n",
            "\n",
            "\rya.py.1               0%[                    ]       0  --.-KB/s               \rya.py.1             100%[===================>]     723  --.-KB/s    in 0s      \n",
            "\n",
            "2022-08-08 14:24:08 (47.1 MB/s) - ‘ya.py.1’ saved [723/723]\n",
            "\n",
            "--2022-08-08 14:24:09--  https://downloader.disk.yandex.ru/disk/861e4e87ff65b2c0d389ce8a4e15a6bd6136a012a90d542046b7f6f7752bbc2d/62f154c9/_gIe7sqhiKGWvpES7oGEV4LBmE3mWZFnEs8QSgwfnop2zSm1XUdSGhsGQNyfSRay16J6z6P2MFmGUJp4elnHUA%3D%3D?uid=0&filename=data.zip&disposition=attachment&hash=Xsh98wiJiWn2t1I0wKL9nchDkGZQSAbOJ6BZci%2B3foEw4jU1THxu4mw5xq7jkf78q/J6bpmRyOJonT3VoXnDag%3D%3D%3A&limit=0&content_type=application%2Fzip&owner_uid=598766231&fsize=207633511&hid=7cc0185851525118e8abc1a575879e9f&media_type=compressed&tknv=v2\n",
            "Resolving downloader.disk.yandex.ru (downloader.disk.yandex.ru)... 77.88.21.127, 2a02:6b8::2:127\n",
            "Connecting to downloader.disk.yandex.ru (downloader.disk.yandex.ru)|77.88.21.127|:443... connected.\n",
            "HTTP request sent, awaiting response... 302 Found\n",
            "Location: https://s404vla.storage.yandex.net/rdisk/861e4e87ff65b2c0d389ce8a4e15a6bd6136a012a90d542046b7f6f7752bbc2d/62f154c9/_gIe7sqhiKGWvpES7oGEV4LBmE3mWZFnEs8QSgwfnop2zSm1XUdSGhsGQNyfSRay16J6z6P2MFmGUJp4elnHUA==?uid=0&filename=data.zip&disposition=attachment&hash=Xsh98wiJiWn2t1I0wKL9nchDkGZQSAbOJ6BZci%2B3foEw4jU1THxu4mw5xq7jkf78q/J6bpmRyOJonT3VoXnDag%3D%3D%3A&limit=0&content_type=application%2Fzip&owner_uid=598766231&fsize=207633511&hid=7cc0185851525118e8abc1a575879e9f&media_type=compressed&tknv=v2&rtoken=wuCLjJstHF8W&force_default=no&ycrid=na-3d1c402facaf5c908c621068fc796730-downloader4e&ts=5e5beebf80440&s=4904fec4fe2635dd1c229020162be673a2c00b37f151f56d3c2d4a724f1350ba&pb=U2FsdGVkX1_s53hZKxYNlgLLtFePQnuy6DzRKBr9v4CFkwAj0GP0CwsezwtvO7Fg3EVnwflO4nlLrQSobATR8rgcNBFKX5SiqvcJhmebUpc [following]\n",
            "--2022-08-08 14:24:10--  https://s404vla.storage.yandex.net/rdisk/861e4e87ff65b2c0d389ce8a4e15a6bd6136a012a90d542046b7f6f7752bbc2d/62f154c9/_gIe7sqhiKGWvpES7oGEV4LBmE3mWZFnEs8QSgwfnop2zSm1XUdSGhsGQNyfSRay16J6z6P2MFmGUJp4elnHUA==?uid=0&filename=data.zip&disposition=attachment&hash=Xsh98wiJiWn2t1I0wKL9nchDkGZQSAbOJ6BZci%2B3foEw4jU1THxu4mw5xq7jkf78q/J6bpmRyOJonT3VoXnDag%3D%3D%3A&limit=0&content_type=application%2Fzip&owner_uid=598766231&fsize=207633511&hid=7cc0185851525118e8abc1a575879e9f&media_type=compressed&tknv=v2&rtoken=wuCLjJstHF8W&force_default=no&ycrid=na-3d1c402facaf5c908c621068fc796730-downloader4e&ts=5e5beebf80440&s=4904fec4fe2635dd1c229020162be673a2c00b37f151f56d3c2d4a724f1350ba&pb=U2FsdGVkX1_s53hZKxYNlgLLtFePQnuy6DzRKBr9v4CFkwAj0GP0CwsezwtvO7Fg3EVnwflO4nlLrQSobATR8rgcNBFKX5SiqvcJhmebUpc\n",
            "Resolving s404vla.storage.yandex.net (s404vla.storage.yandex.net)... 141.8.129.151, 2a02:6b8:c0e:b0e:0:41af:240:3593\n",
            "Connecting to s404vla.storage.yandex.net (s404vla.storage.yandex.net)|141.8.129.151|:443... connected.\n",
            "HTTP request sent, awaiting response... 200 OK\n",
            "Length: 207633511 (198M) [application/zip]\n",
            "Saving to: ‘data.zip’\n",
            "\n",
            "ta.zip              100%[===================>] 198.01M  22.9MB/s    in 9.8s    \n",
            "\n",
            "2022-08-08 14:24:21 (20.1 MB/s) - ‘data.zip’ saved [207633511/207633511]\n",
            "\n"
          ]
        }
      ]
    },
    {
      "cell_type": "code",
      "source": [
        "!unzip data.zip"
      ],
      "metadata": {
        "colab": {
          "base_uri": "https://localhost:8080/"
        },
        "id": "rX-8KY07170X",
        "outputId": "a5b58e6b-ac17-4b79-c428-3b21e5422421"
      },
      "id": "rX-8KY07170X",
      "execution_count": 22,
      "outputs": [
        {
          "output_type": "stream",
          "name": "stdout",
          "text": [
            "Archive:  data.zip\n",
            "replace data/test/gt/0_um_road_000071.png? [y]es, [n]o, [A]ll, [N]one, [r]ename: "
          ]
        }
      ]
    },
    {
      "cell_type": "code",
      "execution_count": 23,
      "id": "a07565b2",
      "metadata": {
        "id": "a07565b2"
      },
      "outputs": [],
      "source": [
        "import os\n",
        "import cv2\n",
        "import numpy as np\n",
        "\n",
        "import torchvision.transforms as transforms\n",
        "from torch.utils.data import Dataset\n",
        "\n",
        "import matplotlib.pyplot as plt\n",
        "%matplotlib inline"
      ]
    },
    {
      "cell_type": "code",
      "execution_count": 33,
      "id": "2d6665d8",
      "metadata": {
        "id": "2d6665d8"
      },
      "outputs": [],
      "source": [
        "def get_paths(path):\n",
        "    _, _, filenames = next(os.walk(path))\n",
        "\n",
        "    images_paths = []\n",
        "    for filename in sorted(filenames):            \n",
        "        images_paths.append(os.path.join(path, filename))\n",
        "    \n",
        "    return np.stack(images_paths)\n",
        "\n",
        "class RoadDataset(Dataset):\n",
        "    \"\"\"Feel free to rewrite it. For ex. cache all images in RAM to increase training speed\"\"\"\n",
        "    def __init__(self, images, masks, transform, aug=None,):\n",
        "        self.images = sorted(images)\n",
        "        self.masks = sorted(masks)\n",
        "        self.transform = transform\n",
        "        self.aug = aug\n",
        "        self.cache = dict()\n",
        "    \n",
        "    def __len__(self):\n",
        "        return len(self.images)\n",
        "    \n",
        "    def __getitem__(self, idx):\n",
        "        if idx in self.cache:\n",
        "            image, mask = self.cache[idx] \n",
        "        else:     \n",
        "            im_name = self.images[idx]\n",
        "            mask_name = self.masks[idx]\n",
        "            \n",
        "            image = cv2.imread(im_name)[:,:,::-1] / 255.0  # ::-1 to convert from BGR to RGB\n",
        "            mask = cv2.imread(mask_name, cv2.IMREAD_GRAYSCALE)\n",
        "            mask = (mask > 0).astype(np.float32)\n",
        "\n",
        "            self.cache[idx] = (image, mask)\n",
        "        \n",
        "        if self.aug:\n",
        "            sample = self.aug(\n",
        "                image=image,\n",
        "                mask=mask,\n",
        "            )\n",
        "        else:\n",
        "            sample = {\n",
        "                'image': image,\n",
        "                'mask': mask,\n",
        "            }\n",
        "        \n",
        "        sample['image'] = self.transform(sample['image']).float()\n",
        "        sample['mask'] = self.transform(sample['mask']).float()\n",
        "\n",
        "        return sample"
      ]
    },
    {
      "cell_type": "code",
      "execution_count": 34,
      "id": "57f2b951",
      "metadata": {
        "id": "57f2b951"
      },
      "outputs": [],
      "source": [
        "X_train = get_paths(\"data/train/images\")\n",
        "y_train = get_paths(\"data/train/gt\")\n",
        "\n",
        "transform = transforms.Compose([\n",
        "    transforms.ToTensor(),\n",
        "])"
      ]
    },
    {
      "cell_type": "code",
      "source": [
        "import albumentations as A\n",
        "\n",
        "augmentations = A."
      ],
      "metadata": {
        "id": "9t3zMS1J4MBi"
      },
      "id": "9t3zMS1J4MBi",
      "execution_count": 39,
      "outputs": []
    },
    {
      "cell_type": "code",
      "execution_count": 35,
      "id": "bc255049",
      "metadata": {
        "id": "bc255049"
      },
      "outputs": [],
      "source": [
        "train_dataset = RoadDataset(X_train, y_train, transform)"
      ]
    },
    {
      "cell_type": "code",
      "execution_count": 47,
      "id": "9056519f",
      "metadata": {
        "colab": {
          "base_uri": "https://localhost:8080/",
          "height": 222
        },
        "id": "9056519f",
        "outputId": "faf9abeb-812c-4df4-b35d-5f897e6fc1ff"
      },
      "outputs": [
        {
          "output_type": "stream",
          "name": "stdout",
          "text": [
            "shape of the image: 420 is torch.Size([3, 370, 370])\n"
          ]
        },
        {
          "output_type": "display_data",
          "data": {
            "text/plain": [
              "<Figure size 432x288 with 2 Axes>"
            ],
            "image/png": "[encoded data removed]"
          },
          "metadata": {
            "needs_background": "light"
          }
        }
      ],
      "source": [
        "import numpy as np\n",
        "\n",
        "idx = int(np.random.randint(0, len(train_dataset)))\n",
        "sample = train_dataset[idx]\n",
        "image = sample['image']\n",
        "mask = sample['mask']\n",
        "\n",
        "plt.subplot(1, 2, 1)\n",
        "plt.imshow(image.permute(1, 2, 0))\n",
        "plt.subplot(1, 2, 2)\n",
        "plt.imshow(np.squeeze(mask.permute(1, 2, 0)), cmap='gray', vmin=0, vmax=1)\n",
        "print(f'shape of the image: {idx} is {image.shape}')"
      ]
    },
    {
      "cell_type": "code",
      "source": [
        "shapes = set([tuple(i['image'].shape) for i in train_dataset])"
      ],
      "metadata": {
        "id": "aT1Vrml468ro"
      },
      "id": "aT1Vrml468ro",
      "execution_count": 60,
      "outputs": []
    },
    {
      "cell_type": "code",
      "source": [
        "len(shapes)"
      ],
      "metadata": {
        "id": "6BiEH6e57UBT",
        "outputId": "c4962ebf-fa2c-4c35-9ff6-c67805c383cb",
        "colab": {
          "base_uri": "https://localhost:8080/"
        }
      },
      "id": "6BiEH6e57UBT",
      "execution_count": 61,
      "outputs": [
        {
          "output_type": "execute_result",
          "data": {
            "text/plain": [
              "1"
            ]
          },
          "metadata": {},
          "execution_count": 61
        }
      ]
    },
    {
      "cell_type": "code",
      "source": [
        "from math import ceil\n",
        "\n",
        "number_subsamples = 5\n",
        "\n",
        "height, width = shapes.pop()[1:]\n",
        "min_height, min_width = (ceil(i/ 2**number_subsamples) * 2**number_subsamples for i in (height, width))\n",
        "min_height, min_width\n"
      ],
      "metadata": {
        "id": "uQGwrEwV7XRw",
        "outputId": "fe3ae7fb-af4a-421a-cbbb-ed2ef5c648ac",
        "colab": {
          "base_uri": "https://localhost:8080/"
        }
      },
      "id": "uQGwrEwV7XRw",
      "execution_count": 62,
      "outputs": [
        {
          "output_type": "execute_result",
          "data": {
            "text/plain": [
              "(384, 384)"
            ]
          },
          "metadata": {},
          "execution_count": 62
        }
      ]
    },
    {
      "cell_type": "markdown",
      "id": "e7a8986f",
      "metadata": {
        "id": "e7a8986f"
      },
      "source": [
        "Workflow:\n",
        "---\n",
        "* Choose correct loss function, write training loop and code for testing. Feel free to use previous HW for inspiration. \n",
        "* Train any segmentation neural network from scratch (for example U-Net) and achieve >= 0.75 IoU on test set (40% points). See function to calculate the metric below.\n",
        "* Use any pretrained model for image classification, convert it for segmentation by adding decoder (don't forget skip-connections) or usign dilated convolutions and achieve >= 0.87 IoU  on test set (60% points).\n",
        "\n",
        "You're not allowed to do only one thing: train your network on test set.\n",
        "\n",
        "----\n",
        "Your final solution will consist of an ipython notebook with code (for final networks training + any experiments with data) and test metric calculation.\n",
        "\n",
        "Feel free to ask in Telegram chat if something is not clear :3\n"
      ]
    },
    {
      "cell_type": "code",
      "execution_count": 37,
      "id": "d91bc236",
      "metadata": {
        "colab": {
          "base_uri": "https://localhost:8080/"
        },
        "id": "d91bc236",
        "outputId": "75b24927-2133-4c79-c3df-40301c48b9e5"
      },
      "outputs": [
        {
          "output_type": "stream",
          "name": "stdout",
          "text": [
            "Dataset length 648\n"
          ]
        }
      ],
      "source": [
        "print(f\"Dataset length {len(train_dataset)}\")"
      ]
    },
    {
      "cell_type": "markdown",
      "id": "057ee74d",
      "metadata": {
        "id": "057ee74d"
      },
      "source": [
        "Dataset is small so actively use data augmentation: rotations, flip, color-change etc. to prevent overfitting.\n",
        "\n",
        "Most likely you'll have to pad your images to 512x512 (it divides by 2^5=32, like U-Net wants). Use PadIfNeeded from Albumentations and central crop (see below) after prediction to calculate loss/metrics (you don't want to pay attention on padded values).\n",
        "\n",
        "----\n",
        "There is a hard data class imbalance in dataset, so the network output will be biased toward \"zero\" class. You can either tune the minimal probability threshold for the \"road\" class, or add class weights in optimized loss. You also can try to use softIoU or DICE loss."
      ]
    },
    {
      "cell_type": "markdown",
      "id": "1c0dcf8f",
      "metadata": {
        "id": "1c0dcf8f"
      },
      "source": [
        "Good luck!"
      ]
    },
    {
      "cell_type": "code",
      "execution_count": null,
      "id": "50a8610c",
      "metadata": {
        "id": "50a8610c"
      },
      "outputs": [],
      "source": [
        "def calc_iou(prediction, ground_truth):\n",
        "    n_images = len(prediction)\n",
        "    intersection, union = 0, 0\n",
        "    for i in range(n_images):\n",
        "        intersection += np.logical_and(prediction[i] > 0, ground_truth[i] > 0).astype(np.float32).sum() \n",
        "        union += np.logical_or(prediction[i] > 0, ground_truth[i] > 0).astype(np.float32).sum()\n",
        "    return float(intersection) / union"
      ]
    },
    {
      "cell_type": "code",
      "execution_count": null,
      "id": "0483e274",
      "metadata": {
        "id": "0483e274"
      },
      "outputs": [],
      "source": [
        "def central_crop(images, size):\n",
        "    current_size = images.size(2)\n",
        "    border_len = (current_size - size) // 2\n",
        "    images = images[:, :, border_len:current_size-border_len, border_len:current_size-border_len]"
      ]
    },
    {
      "cell_type": "code",
      "execution_count": null,
      "id": "bb8f1c46",
      "metadata": {
        "id": "bb8f1c46"
      },
      "outputs": [],
      "source": [
        ""
      ]
    }
  ],
  "metadata": {
    "kernelspec": {
      "display_name": "Python 3",
      "language": "python",
      "name": "python3"
    },
    "language_info": {
      "codemirror_mode": {
        "name": "ipython",
        "version": 3
      },
      "file_extension": ".py",
      "mimetype": "text/x-python",
      "name": "python",
      "nbconvert_exporter": "python",
      "pygments_lexer": "ipython3",
      "version": "3.6.13"
    },
    "colab": {
      "name": "homework-part1-segmentation.ipynb",
      "provenance": []
    }
  },
  "nbformat": 4,
  "nbformat_minor": 5
}