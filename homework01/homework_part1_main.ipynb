{
  "cells": [
    {
      "cell_type": "markdown",
      "metadata": {
        "id": "mTTQ_CC972Yu"
      },
      "source": [
        "# Homework: Build Your Own NN Framework"
      ]
    },
    {
      "cell_type": "markdown",
      "metadata": {
        "id": "SWvnNQLq72Y0"
      },
      "source": [
        "The goal of this homework is simple, yet an actual implementation may take some time. We are going to write an Artificial Neural Network (almost) from scratch. The software design was heavily inspired by [PyTorch](http://pytorch.org) which is the main framework of our course."
      ]
    },
    {
      "cell_type": "markdown",
      "metadata": {
        "id": "sLD48TVw72Y2"
      },
      "source": [
        "Your homework task comprises 4 steps:\n",
        " - Implement all modules in `homework_part1_modules.ipynb` . These modules will be checked automatically using tests provided in `homework_part1_test_modules.ipynb`\n",
        " - Check that your modules work on 'toy example' (see below)\n",
        " - Train small neural network to classify images from mnist dataset\n",
        " - Train the same neural network in pytorch"
      ]
    },
    {
      "cell_type": "code",
      "execution_count": 1,
      "metadata": {
        "id": "DJyZ8BtE72Y3"
      },
      "outputs": [],
      "source": [
        "%matplotlib inline\n",
        "from time import time, sleep\n",
        "import numpy as np\n",
        "import matplotlib.pyplot as plt\n",
        "from IPython import display"
      ]
    },
    {
      "cell_type": "markdown",
      "metadata": {
        "id": "ZCy12g4Z72Y5"
      },
      "source": [
        "# 1. Framework"
      ]
    },
    {
      "cell_type": "markdown",
      "metadata": {
        "id": "HIHgturu72Y6"
      },
      "source": [
        "Implement everything in `homework_part1_modules.ipynb`. Read all the comments thoughtfully, it will reduce the amount of time spended on debug. Please don't change the prototypes since layers you implement will be automatically checked.\n",
        "\n",
        "The typical assumption is that `module.backward` is always executed after `module.forward`,\n",
        "so layer output is stored in `_output`. This would be useful for `SoftMax`. "
      ]
    },
    {
      "cell_type": "markdown",
      "metadata": {
        "id": "Pg-3EnZY72Y7"
      },
      "source": [
        "### Tech note about inplace operations\n",
        "You can use `np.multiply`, `np.add`, `np.divide`, `np.subtract` with parameter `out` filled instead of `*`,`+`,`/`,`-` for better memory handling through inplace operations\n",
        "\n",
        "Example: suppose you allocated a variable \n",
        "\n",
        "```\n",
        "a = np.zeros(...)\n",
        "```\n",
        "So, instead of\n",
        "```\n",
        "a = b + c  # will be reallocated, GC needed to free\n",
        "``` \n",
        "You can use: \n",
        "```\n",
        "np.add(b, c, out=a) # puts result in `a`\n",
        "```"
      ]
    },
    {
      "cell_type": "code",
      "execution_count": 2,
      "metadata": {
        "colab": {
          "base_uri": "https://localhost:8080/"
        },
        "id": "mUSNRFu772Y8",
        "outputId": "f8d3c81c-1d52-4d49-f0d9-3b2036cd869f"
      },
      "outputs": [
        {
          "output_type": "stream",
          "name": "stdout",
          "text": [
            "Cloning into 'deep_vision_and_graphics'...\n",
            "remote: Enumerating objects: 594, done.\u001b[K\n",
            "remote: Counting objects: 100% (245/245), done.\u001b[K\n",
            "remote: Compressing objects: 100% (70/70), done.\u001b[K\n",
            "remote: Total 594 (delta 187), reused 221 (delta 175), pack-reused 349\u001b[K\n",
            "Receiving objects: 100% (594/594), 38.75 MiB | 30.90 MiB/s, done.\n",
            "Resolving deltas: 100% (233/233), done.\n"
          ]
        }
      ],
      "source": [
        "# (re-)load layers\n",
        "!rm -rf deep_vision_and_graphics\n",
        "!git clone https://github.com/SultanovAR/deep_vision_and_graphics.git\n",
        "%run deep_vision_and_graphics/homework01/homework_part1_modules.ipynb"
      ]
    },
    {
      "cell_type": "markdown",
      "metadata": {
        "id": "w14ow6n-72Y9"
      },
      "source": [
        "# 2. Toy example"
      ]
    },
    {
      "cell_type": "markdown",
      "metadata": {
        "id": "DKxrgITE72Y-"
      },
      "source": [
        "Once you have implemented the modules, you can check that your framework can actually be used for neural network training. Use this example to debug your code, start with logistic regression and then test other layers. You do not need to change anything here. This code is provided for you to test the layers. Also it is easy to use this code in MNIST task."
      ]
    },
    {
      "cell_type": "markdown",
      "metadata": {
        "id": "sCJmmIls72Y_"
      },
      "source": [
        "## Dataset"
      ]
    },
    {
      "cell_type": "code",
      "execution_count": 3,
      "metadata": {
        "scrolled": false,
        "colab": {
          "base_uri": "https://localhost:8080/",
          "height": 282
        },
        "id": "760D0osT72Y_",
        "outputId": "570e9a50-ad81-4c76-9e9c-e38f30462130"
      },
      "outputs": [
        {
          "output_type": "execute_result",
          "data": {
            "text/plain": [
              "<matplotlib.collections.PathCollection at 0x7fe24c8dd350>"
            ]
          },
          "metadata": {},
          "execution_count": 3
        },
        {
          "output_type": "display_data",
          "data": {
            "text/plain": [
              "<Figure size 432x288 with 1 Axes>"
            ],
            "image/png": "[encoded data removed]"
          },
          "metadata": {
            "needs_background": "light"
          }
        }
      ],
      "source": [
        "# Generate some data\n",
        "n_samples = 500\n",
        "\n",
        "X_pos = np.random.randn(n_samples, 2) + np.array([2, 2])\n",
        "X_neg = np.random.randn(n_samples, 2) + np.array([-2, -2])\n",
        "X = np.vstack([X_pos, X_neg])\n",
        "\n",
        "Y = np.concatenate([np.ones(n_samples), np.zeros(n_samples)])[:, np.newaxis]\n",
        "Y = np.hstack([Y, 1 - Y])  # one-hot encoding\n",
        "\n",
        "plt.scatter(X[:, 0],X[:, 1], c=Y[:, 0], edgecolors='none')"
      ]
    },
    {
      "cell_type": "markdown",
      "metadata": {
        "id": "RvxSXVs972ZA"
      },
      "source": [
        "## Neural network architecture"
      ]
    },
    {
      "cell_type": "markdown",
      "metadata": {
        "id": "82z0wCCO72ZB"
      },
      "source": [
        "Define a **logistic regression** for debugging. "
      ]
    },
    {
      "cell_type": "code",
      "execution_count": 4,
      "metadata": {
        "colab": {
          "base_uri": "https://localhost:8080/"
        },
        "id": "qydyt-2t72ZB",
        "outputId": "11239f10-3f03-474c-c05f-3ac662ad3f6a"
      },
      "outputs": [
        {
          "output_type": "stream",
          "name": "stdout",
          "text": [
            "Linear 2 -> 2\n",
            "LogSoftMax\n",
            "\n"
          ]
        }
      ],
      "source": [
        "net = Sequential()\n",
        "net.add_module(Linear(2, 2))\n",
        "net.add_module(LogSoftMax())\n",
        "\n",
        "criterion = ClassNLLCriterion()\n",
        "\n",
        "print(net)\n",
        "\n",
        "# Test something like that then \n",
        "\n",
        "#net = Sequential()\n",
        "#net.add_module(Linear(2, 4))\n",
        "#net.add_module(ReLU())\n",
        "#net.add_module(Linear(4, 2))\n",
        "#net.add_module(LogSoftMax())"
      ]
    },
    {
      "cell_type": "markdown",
      "metadata": {
        "id": "9kLyDT0I72ZD"
      },
      "source": [
        "## Optimizer"
      ]
    },
    {
      "cell_type": "markdown",
      "metadata": {
        "id": "Hql2RlwI72ZG"
      },
      "source": [
        "Let's start with simple SGD with momentum. You can test Adam if sgd works fine"
      ]
    },
    {
      "cell_type": "code",
      "execution_count": 5,
      "metadata": {
        "id": "D5faONPh72ZI"
      },
      "outputs": [],
      "source": [
        "opt = SGD(net, lr=1e-1, momentum=0.9)\n",
        "#opt = Adam(net)"
      ]
    },
    {
      "cell_type": "markdown",
      "metadata": {
        "id": "6HKE0inF72ZJ"
      },
      "source": [
        "## Training"
      ]
    },
    {
      "cell_type": "markdown",
      "metadata": {
        "id": "7O3zkAGE72ZK"
      },
      "source": [
        "Start with batch_size = 1000 to make sure every step lowers the loss, then try stochastic version."
      ]
    },
    {
      "cell_type": "code",
      "execution_count": 6,
      "metadata": {
        "id": "3oQdedq772ZL"
      },
      "outputs": [],
      "source": [
        "# batch generator\n",
        "def get_batches(dataset, batch_size):\n",
        "    X, Y = dataset\n",
        "    n_samples = X.shape[0]\n",
        "        \n",
        "    # Shuffle at the start of epoch\n",
        "    indices = np.arange(n_samples)\n",
        "    np.random.shuffle(indices)\n",
        "    \n",
        "    for start in range(0, n_samples, batch_size):\n",
        "        end = min(start + batch_size, n_samples)\n",
        "        \n",
        "        batch_idx = indices[start:end]\n",
        "    \n",
        "        yield X[batch_idx], Y[batch_idx]"
      ]
    },
    {
      "cell_type": "markdown",
      "metadata": {
        "id": "G1BosMjQ72ZO"
      },
      "source": [
        "Basic training loop. Examine it."
      ]
    },
    {
      "cell_type": "code",
      "execution_count": 7,
      "metadata": {
        "scrolled": false,
        "id": "MHvaDgYS72ZP"
      },
      "outputs": [],
      "source": [
        "def train_network(net, optimizer, X, Y, batch_size, n_epoch):\n",
        "    loss_history = []\n",
        "\n",
        "    for i in range(n_epoch):\n",
        "        for x_batch, y_batch in get_batches((X, Y), batch_size):\n",
        "\n",
        "            net.zero_grad()\n",
        "\n",
        "            # Forward\n",
        "            predictions = net.forward(x_batch)\n",
        "            loss = criterion.forward(predictions, y_batch)\n",
        "\n",
        "            # Backward\n",
        "            dp = criterion.backward(predictions, y_batch)\n",
        "            net.backward(x_batch, dp)\n",
        "\n",
        "            # Update weights\n",
        "            optimizer.step()\n",
        "\n",
        "            loss_history.append(loss)\n",
        "\n",
        "        # Visualize\n",
        "        display.clear_output(wait=True)\n",
        "        plt.figure(figsize=(8, 6))\n",
        "\n",
        "        plt.title(\"Training loss\")\n",
        "        plt.xlabel(\"#iteration\")\n",
        "        plt.ylabel(\"loss\")\n",
        "        plt.plot(loss_history, 'b')\n",
        "        plt.show()\n",
        "\n",
        "        print('Current loss: %f' % loss)    "
      ]
    },
    {
      "cell_type": "code",
      "execution_count": 8,
      "metadata": {
        "colab": {
          "base_uri": "https://localhost:8080/",
          "height": 421
        },
        "id": "LcdMo2eq72ZQ",
        "outputId": "43a5e867-c5a0-496c-e0d0-1408ba05c09f"
      },
      "outputs": [
        {
          "output_type": "display_data",
          "data": {
            "text/plain": [
              "<Figure size 576x432 with 1 Axes>"
            ],
            "image/png": "[encoded data removed]"
          },
          "metadata": {
            "needs_background": "light"
          }
        },
        {
          "output_type": "stream",
          "name": "stdout",
          "text": [
            "Current loss: 0.001058\n"
          ]
        }
      ],
      "source": [
        "train_network(net, opt, X, Y, batch_size=128, n_epoch=20)"
      ]
    },
    {
      "cell_type": "markdown",
      "metadata": {
        "id": "WkPaHAtn72ZQ"
      },
      "source": [
        "# 3. Classification on MNIST"
      ]
    },
    {
      "cell_type": "markdown",
      "metadata": {
        "id": "VS19rv1q72ZR"
      },
      "source": [
        "We are using old good [MNIST](http://yann.lecun.com/exdb/mnist/) as our dataset."
      ]
    },
    {
      "cell_type": "code",
      "execution_count": 9,
      "metadata": {
        "id": "FdydQTVt72ZR"
      },
      "outputs": [],
      "source": [
        "# import mnist\n",
        "# X_train, y_train, X_val, y_val, X_test, y_test = mnist.load_dataset()"
      ]
    },
    {
      "cell_type": "code",
      "source": [
        "import torch\n",
        "import torchvision"
      ],
      "metadata": {
        "id": "bwfQQ0QO-93z"
      },
      "execution_count": 10,
      "outputs": []
    },
    {
      "cell_type": "code",
      "source": [
        "X_train, y_train = zip(*torchvision.datasets.MNIST('.', train=True, download=True))\n",
        "X_test, y_test = zip(*torchvision.datasets.MNIST('.', train=False, download=True))\n",
        "\n",
        "y_train, y_test = np.array(y_train), np.array(y_test)\n",
        "X_train = np.array([np.array(im) for im in X_train])\n",
        "X_test = np.array([np.array(im) for im in X_test])\n",
        "X_train.shape"
      ],
      "metadata": {
        "id": "WTtu_GX4CHKN",
        "outputId": "99344279-d872-48fd-e50d-798d35a6e5f5",
        "colab": {
          "base_uri": "https://localhost:8080/"
        }
      },
      "execution_count": 11,
      "outputs": [
        {
          "output_type": "execute_result",
          "data": {
            "text/plain": [
              "(60000, 28, 28)"
            ]
          },
          "metadata": {},
          "execution_count": 11
        }
      ]
    },
    {
      "cell_type": "code",
      "execution_count": 12,
      "metadata": {
        "colab": {
          "base_uri": "https://localhost:8080/",
          "height": 160
        },
        "id": "SMWKb56A72ZS",
        "outputId": "bf1ac93c-7038-46d9-f8d2-c46b4e739374"
      },
      "outputs": [
        {
          "output_type": "display_data",
          "data": {
            "text/plain": [
              "<Figure size 720x288 with 5 Axes>"
            ],
            "image/png": "[encoded data removed]"
          },
          "metadata": {
            "needs_background": "light"
          }
        }
      ],
      "source": [
        "n_samples = 5\n",
        "plt.figure(figsize=(10,4))\n",
        "for i in range(n_samples):\n",
        "    plt.subplot(1,n_samples,i+1)\n",
        "    plt.imshow(X_train[i], 'gray')\n",
        "    plt.title('label:{}'.format(y_train[i]))"
      ]
    },
    {
      "cell_type": "markdown",
      "metadata": {
        "id": "i7XyM_O_72ZT"
      },
      "source": [
        "Your task:\n",
        "1. Preprocess data: One-hot encode the labels and reshape 28x28 images to 1D vectors of size 784\n",
        "2. Define simple network Linear(128) + relu + Linear(10) + LogSoftMax\n",
        "3. Define criterion ClassNLLCriterion\n",
        "4. Define optimizer (sgd or adam)\n",
        "5. Train network\n",
        "6. Test network on test data, print its accuracy. Make sure accuracy is greater than 95% on test set"
      ]
    },
    {
      "cell_type": "code",
      "source": [
        "!pip install category_encoders"
      ],
      "metadata": {
        "id": "3iUJw7OiA2CM",
        "colab": {
          "base_uri": "https://localhost:8080/"
        },
        "outputId": "5c416d7c-042b-47bd-fd47-6824af64ce93"
      },
      "execution_count": 13,
      "outputs": [
        {
          "output_type": "stream",
          "name": "stdout",
          "text": [
            "Looking in indexes: https://pypi.org/simple, https://us-python.pkg.dev/colab-wheels/public/simple/\n",
            "Requirement already satisfied: category_encoders in /usr/local/lib/python3.7/dist-packages (2.5.0)\n",
            "Requirement already satisfied: pandas>=1.0.5 in /usr/local/lib/python3.7/dist-packages (from category_encoders) (1.3.5)\n",
            "Requirement already satisfied: scipy>=1.0.0 in /usr/local/lib/python3.7/dist-packages (from category_encoders) (1.7.3)\n",
            "Requirement already satisfied: numpy>=1.14.0 in /usr/local/lib/python3.7/dist-packages (from category_encoders) (1.21.6)\n",
            "Requirement already satisfied: statsmodels>=0.9.0 in /usr/local/lib/python3.7/dist-packages (from category_encoders) (0.10.2)\n",
            "Requirement already satisfied: patsy>=0.5.1 in /usr/local/lib/python3.7/dist-packages (from category_encoders) (0.5.2)\n",
            "Requirement already satisfied: scikit-learn>=0.20.0 in /usr/local/lib/python3.7/dist-packages (from category_encoders) (1.0.2)\n",
            "Requirement already satisfied: python-dateutil>=2.7.3 in /usr/local/lib/python3.7/dist-packages (from pandas>=1.0.5->category_encoders) (2.8.2)\n",
            "Requirement already satisfied: pytz>=2017.3 in /usr/local/lib/python3.7/dist-packages (from pandas>=1.0.5->category_encoders) (2022.1)\n",
            "Requirement already satisfied: six in /usr/local/lib/python3.7/dist-packages (from patsy>=0.5.1->category_encoders) (1.15.0)\n",
            "Requirement already satisfied: threadpoolctl>=2.0.0 in /usr/local/lib/python3.7/dist-packages (from scikit-learn>=0.20.0->category_encoders) (3.1.0)\n",
            "Requirement already satisfied: joblib>=0.11 in /usr/local/lib/python3.7/dist-packages (from scikit-learn>=0.20.0->category_encoders) (1.1.0)\n"
          ]
        }
      ]
    },
    {
      "cell_type": "code",
      "source": [
        "import category_encoders as ce\n",
        "\n",
        "OHE = ce.OneHotEncoder(return_df=False, cols=0)"
      ],
      "metadata": {
        "id": "75CqmdMyBiKY",
        "colab": {
          "base_uri": "https://localhost:8080/"
        },
        "outputId": "e55def51-398e-4d2c-d3ab-82950ba1f0cf"
      },
      "execution_count": 14,
      "outputs": [
        {
          "output_type": "stream",
          "name": "stderr",
          "text": [
            "/usr/local/lib/python3.7/dist-packages/statsmodels/tools/_testing.py:19: FutureWarning: pandas.util.testing is deprecated. Use the functions in the public API at pandas.testing instead.\n",
            "  import pandas.util.testing as tm\n"
          ]
        }
      ]
    },
    {
      "cell_type": "code",
      "source": [
        "X_train.shape, X_test.shape"
      ],
      "metadata": {
        "id": "FFaRYMF6DR0b",
        "outputId": "107775f8-7571-4ded-c931-33e06abb2c4c",
        "colab": {
          "base_uri": "https://localhost:8080/"
        }
      },
      "execution_count": 15,
      "outputs": [
        {
          "output_type": "execute_result",
          "data": {
            "text/plain": [
              "((60000, 28, 28), (10000, 28, 28))"
            ]
          },
          "metadata": {},
          "execution_count": 15
        }
      ]
    },
    {
      "cell_type": "code",
      "execution_count": 16,
      "metadata": {
        "colab": {
          "base_uri": "https://localhost:8080/"
        },
        "id": "ElSgz8hQ72ZT",
        "outputId": "fff2bcb7-a499-47d1-e9fb-763720d2c6b1"
      },
      "outputs": [
        {
          "output_type": "stream",
          "name": "stdout",
          "text": [
            "(60000, 28, 28) (60000,) [5 0 4 1 9 2 1 3 1 4]\n"
          ]
        }
      ],
      "source": [
        "print(X_train.shape, y_train.shape, y_train[:10])\n",
        "\n",
        "# YOUR CODE: reshape + one-hot encoding\n",
        "\n",
        "X_test = X_test.reshape(10000, 784)\n",
        "X_train = X_train.reshape(60000, 784)\n",
        "\n",
        "y_train = OHE.fit_transform(y_train)\n",
        "y_test = OHE.transform(y_test)\n",
        "\n",
        "assert len(X_test.shape) == 2, X_test.shape\n",
        "assert len(X_test[-1]) == 28*28, X_test.shape\n",
        "assert len(y_test.shape) == 2, y_test.shape\n",
        "assert len(y_test[-1]) == 10, y_test.shape\n",
        "\n",
        "assert len(X_train.shape) == 2, X_train.shape\n",
        "assert len(X_train[-1]) == 28*28, X_train.shape\n",
        "assert len(y_train.shape) == 2, y_train.shape\n",
        "assert len(y_train[-1]) == 10, y_train.shape"
      ]
    },
    {
      "cell_type": "code",
      "execution_count": 17,
      "metadata": {
        "colab": {
          "base_uri": "https://localhost:8080/"
        },
        "id": "SYUVdOrR72ZU",
        "outputId": "8620046d-137c-43cb-dd03-af34d7fea352"
      },
      "outputs": [
        {
          "output_type": "stream",
          "name": "stdout",
          "text": [
            "Linear 784 -> 128\n",
            "ReLU\n",
            "Linear 128 -> 10\n",
            "LogSoftMax\n",
            "\n"
          ]
        }
      ],
      "source": [
        "# YOUR CODE: network definition Linear(128) + relu + Linear(10) + LogSoftMax\n",
        "net = Sequential()\n",
        "net.add_module(Linear(784, 128))\n",
        "net.add_module(ReLU())\n",
        "net.add_module(Linear(128, 10))\n",
        "net.add_module(LogSoftMax())\n",
        "\n",
        "print(net)"
      ]
    },
    {
      "cell_type": "code",
      "execution_count": 18,
      "metadata": {
        "id": "Zl3aWFtY72ZU"
      },
      "outputs": [],
      "source": [
        "# YOUR CODE: criterion definition\n",
        "criterion = ClassNLLCriterion()"
      ]
    },
    {
      "cell_type": "code",
      "execution_count": 19,
      "metadata": {
        "id": "vXymxfFa72ZV"
      },
      "outputs": [],
      "source": [
        "# YOUR CODE: optimizer definition\n",
        "# for sgd normally you can start with momentum = 0.9 or 0.99 and lr=1e-2  or 1e-1\n",
        "opt = Adam(net)"
      ]
    },
    {
      "cell_type": "code",
      "execution_count": 20,
      "metadata": {
        "colab": {
          "base_uri": "https://localhost:8080/",
          "height": 421
        },
        "id": "b4Q8u28t72ZV",
        "outputId": "fb1d5d9b-aeaa-4760-ea19-346eb79a5733"
      },
      "outputs": [
        {
          "data": {
            "image/png": "[encoded data removed]",
            "text/plain": [
              "<Figure size 576x432 with 1 Axes>"
            ]
          },
          "metadata": {},
          "output_type": "display_data"
        },
        {
          "metadata": {
            "tags": null
          },
          "name": "stdout",
          "output_type": "stream",
          "text": [
            "Current loss: 0.119072\n"
          ]
        }
      ],
      "source": [
        "# YOUR CODE: train network, try batch 128 and 5-15 epochs\n",
        "train_network(net, opt, X_train, y_train, 64, 10)"
      ]
    },
    {
      "cell_type": "markdown",
      "metadata": {
        "id": "7t04ra8K72ZW"
      },
      "source": [
        "Test function is already written here for you. Check your network accuracy, it should be above 95% on test set to pass the grade."
      ]
    },
    {
      "cell_type": "code",
      "execution_count": 21,
      "metadata": {
        "id": "buy1M9dI72ZW"
      },
      "outputs": [],
      "source": [
        "def test_network(network, x_test, y_test, batch_size=1):\n",
        "    n_correct = 0\n",
        "    loss_hist = []\n",
        "    for x_batch, y_batch in get_batches((x_test, y_test), batch_size):\n",
        "        # Forward\n",
        "        predictions = network.forward(x_batch)\n",
        "        loss = criterion.forward(predictions, y_batch)\n",
        "        loss_hist.append(loss)\n",
        "        \n",
        "        y_pred = np.argmax(predictions, axis=-1)\n",
        "        y_true = np.argmax(y_batch, axis=-1)\n",
        "        n_correct += np.sum(y_pred == y_true)\n",
        "    print('Mean loss: {}'.format(np.mean(loss_hist)))    \n",
        "    accuracy = n_correct * 100. / len(y_test)\n",
        "    print('accuracy: {}'.format(accuracy))\n",
        "    return accuracy"
      ]
    },
    {
      "cell_type": "code",
      "execution_count": 22,
      "metadata": {
        "colab": {
          "base_uri": "https://localhost:8080/"
        },
        "id": "ydw9qWQv72ZX",
        "outputId": "471e65d7-672a-4f2f-dc59-f697a361c947"
      },
      "outputs": [
        {
          "metadata": {
            "tags": null
          },
          "name": "stdout",
          "output_type": "stream",
          "text": [
            "Mean loss: 0.21305105757860596\n",
            "accuracy: 96.03\n"
          ]
        }
      ],
      "source": [
        "accuracy = test_network(net, X_test, y_test)\n",
        "assert accuracy > 95, accuracy"
      ]
    },
    {
      "cell_type": "markdown",
      "metadata": {
        "id": "7iFfjKqI72ZX"
      },
      "source": [
        "# 4. Pytorch on MNIST"
      ]
    },
    {
      "cell_type": "markdown",
      "metadata": {
        "id": "IOJnIu6P72ZY"
      },
      "source": [
        "Let's do the same network in pytorch\n",
        "\n",
        "0. Preprocess data. This time gt labels should represent class indices and images should be reshaped from 28x28 images to 1D vectors of size 784.\n",
        "1. Define network`Linear(784, 128) -> Relu -> Linear(128, 10) -> LogSoftMax`\n",
        "  - you can find all layers in `torch.nn` module\n",
        "  - the only difference from our framework will be in `Sequential.add_module` method, check its signature in documentation\n",
        "2. Define criterion\n",
        "  - analogue of `ClassNLLCriterion` is `torch.nn.NLLoss`, but it takes class labeles as the second parameter instead of one-hot encoded labels - that's why we need different preprocessing on step 0.\n",
        "3. Define optimizer from torch.optim module\n",
        "  - optimizers take a list of network parameters instead of the whole network as in our framework. You can easily get the parameters by calling `net.parameters()` method\n",
        "4. Rewrite `train_network()` and `test_network()` functions so that they will be able work with pytorch network\n",
        "  - just convert numpy arrays with batch data to `torch.Tensor` using `torch.from_numpy` and feed them to the network\n",
        "  - result tensors can easily converted from pytorch to numpy using chain of two methods: `detach().numpy()`\n",
        "  - \n",
        "5. Train your network\n",
        "6. Test network on test data, print its accuracy. Make sure accuracy is greater than 95% on test set"
      ]
    },
    {
      "cell_type": "code",
      "execution_count": 23,
      "metadata": {
        "colab": {
          "base_uri": "https://localhost:8080/"
        },
        "id": "uONI_nB772ZY",
        "outputId": "bdb86f21-f611-486d-9a9f-8c8490742236"
      },
      "outputs": [
        {
          "data": {
            "text/plain": [
              "((60000, 28, 28), (10000, 28, 28))"
            ]
          },
          "execution_count": 23,
          "metadata": {},
          "output_type": "execute_result"
        }
      ],
      "source": [
        "X_train, y_train = zip(*torchvision.datasets.MNIST('.', train=True, download=True))\n",
        "X_test, y_test = zip(*torchvision.datasets.MNIST('.', train=False, download=True))\n",
        "\n",
        "y_train, y_test = np.array(y_train), np.array(y_test)\n",
        "X_train = np.array([np.array(im) for im in X_train])\n",
        "X_test = np.array([np.array(im) for im in X_test])\n",
        "X_train.shape, X_test.shape"
      ]
    },
    {
      "cell_type": "code",
      "execution_count": 24,
      "metadata": {
        "colab": {
          "base_uri": "https://localhost:8080/"
        },
        "id": "pPbtr-v_72ZZ",
        "outputId": "e168c591-d3b1-4e50-f931-f4f1a34c2e09"
      },
      "outputs": [
        {
          "metadata": {
            "tags": null
          },
          "name": "stdout",
          "output_type": "stream",
          "text": [
            "(60000, 28, 28) (60000,) [5 0 4 1 9 2 1 3 1 4]\n"
          ]
        }
      ],
      "source": [
        "# YOUR CODE: reshape X_train, X_test and cast y_train, y_test to int64\n",
        "print(X_train.shape, y_train.shape, y_train[:10])\n",
        "\n",
        "classes = np.arange(10)\n",
        "X_test = X_test.reshape(10000, 28*28)\n",
        "X_train = X_train.reshape(60000, 28*28)\n",
        "\n",
        "\n",
        "assert len(X_test.shape) == 2, X_test.shape\n",
        "assert len(X_test[-1]) == 28*28, X_test.shape\n",
        "assert len(y_test.shape) == 1, y_test.shape\n",
        "\n",
        "assert len(X_train.shape) == 2, X_train.shape\n",
        "assert len(X_train[-1]) == 28*28, X_train.shape\n",
        "assert len(y_train.shape) == 1, y_train.shape"
      ]
    },
    {
      "cell_type": "code",
      "execution_count": 25,
      "metadata": {
        "id": "P0VfvFjy72ZZ"
      },
      "outputs": [],
      "source": [
        "import torch"
      ]
    },
    {
      "cell_type": "code",
      "execution_count": 26,
      "metadata": {
        "colab": {
          "base_uri": "https://localhost:8080/"
        },
        "id": "sesi8hfn72Za",
        "outputId": "8136b028-3fc3-4d70-84ba-584b606d4019"
      },
      "outputs": [
        {
          "metadata": {
            "tags": null
          },
          "name": "stdout",
          "output_type": "stream",
          "text": [
            "Sequential(\n",
            "  (fc1): Linear(in_features=784, out_features=128, bias=True)\n",
            "  (relu1): ReLU()\n",
            "  (fc2): Linear(in_features=128, out_features=10, bias=True)\n",
            "  (lnsoftmax): LogSoftmax(dim=-1)\n",
            ")\n"
          ]
        }
      ],
      "source": [
        "# YOUR CODE define network Linear(128) + relu + Linear(10) + LogSoftmax \n",
        "net = torch.nn.Sequential()\n",
        "net.add_module('fc1', torch.nn.Linear(28*28, 128))\n",
        "net.add_module('relu1', torch.nn.ReLU())\n",
        "net.add_module('fc2', torch.nn.Linear(128, 10))\n",
        "net.add_module('lnsoftmax', torch.nn.LogSoftmax(-1))\n",
        "\n",
        "print(net)"
      ]
    },
    {
      "cell_type": "code",
      "execution_count": 27,
      "metadata": {
        "id": "I6q3tmt272Za"
      },
      "outputs": [],
      "source": [
        "# YOUR CODE: define criterion\n",
        "criterion = torch.nn.NLLLoss()"
      ]
    },
    {
      "cell_type": "code",
      "execution_count": 28,
      "metadata": {
        "id": "RxDS8gJv72Zb"
      },
      "outputs": [],
      "source": [
        "# YOUR CODE: define optimizer\n",
        "opt = torch.optim.Adam(net.parameters(), lr=0.001)"
      ]
    },
    {
      "cell_type": "code",
      "source": [
        "device = 'cuda' if torch.cuda.is_available() else 'cpu'\n",
        "device"
      ],
      "metadata": {
        "colab": {
          "base_uri": "https://localhost:8080/",
          "height": 37
        },
        "id": "3uaY0_jPwWVf",
        "outputId": "86e800c0-cfc6-442b-afff-f0c0bc60dc5b"
      },
      "execution_count": 29,
      "outputs": [
        {
          "data": {
            "application/vnd.google.colaboratory.intrinsic+json": {
              "type": "string"
            },
            "text/plain": [
              "'cpu'"
            ]
          },
          "execution_count": 29,
          "metadata": {},
          "output_type": "execute_result"
        }
      ]
    },
    {
      "cell_type": "code",
      "execution_count": 30,
      "metadata": {
        "id": "C4jM8ETG72Zb",
        "colab": {
          "base_uri": "https://localhost:8080/",
          "height": 438
        },
        "outputId": "b5005e06-6a0e-45f1-c58e-fe8bec32125c"
      },
      "outputs": [
        {
          "data": {
            "image/png": "[encoded data removed]",
            "text/plain": [
              "<Figure size 576x432 with 1 Axes>"
            ]
          },
          "metadata": {},
          "output_type": "display_data"
        },
        {
          "metadata": {
            "tags": null
          },
          "name": "stdout",
          "output_type": "stream",
          "text": [
            "Current loss: 0.114374\n",
            "0.1648614022032748\n"
          ]
        }
      ],
      "source": [
        "def train_network_pytorch(net, opt, X, Y, batch_size, n_epoch):\n",
        "    loss_history = []\n",
        "\n",
        "    net.train()\n",
        "    net.to(device)\n",
        "    for i in range(n_epoch):\n",
        "        for x_batch, y_batch in get_batches((X, Y), batch_size):\n",
        "            x_batch = torch.tensor(x_batch, device=device, dtype=torch.float32, requires_grad=False)\n",
        "            y_batch = torch.tensor(y_batch, dtype=torch.long, device=device, requires_grad=False)\n",
        "\n",
        "            loss = criterion.forward(net(x_batch), y_batch)\n",
        "\n",
        "            opt.zero_grad()\n",
        "            loss.backward()\n",
        "            opt.step()\n",
        "\n",
        "            loss_history.append(loss.item())\n",
        "            \n",
        "\n",
        "        # Visualize\n",
        "        display.clear_output(wait=True)\n",
        "        plt.figure(figsize=(8, 6))\n",
        "\n",
        "        plt.title(\"Training loss\")\n",
        "        plt.xlabel(\"#iteration\")\n",
        "        plt.ylabel(\"loss\")\n",
        "        plt.plot(loss_history, 'b')\n",
        "        plt.show()\n",
        "\n",
        "        print('Current loss: %f' % loss)   \n",
        "    print(np.mean(loss_history)) \n",
        "        \n",
        "train_network_pytorch(net, opt, X_train, y_train, 128, 10)"
      ]
    },
    {
      "cell_type": "code",
      "execution_count": 31,
      "metadata": {
        "id": "QWeVrDM972Zc"
      },
      "outputs": [],
      "source": [
        "def test_network_pytorch(network, x_test, y_test, batch_size=1):\n",
        "    n_correct = 0\n",
        "    loss_hist = []\n",
        "\n",
        "    net.eval()\n",
        "    net.to(device)\n",
        "    for x_batch, y_batch in get_batches((x_test, y_test), batch_size):\n",
        "        with torch.no_grad():\n",
        "            x_batch = torch.tensor(x_batch, device=device, dtype=torch.float32, requires_grad=False)\n",
        "            y_batch = torch.tensor(y_batch, dtype=torch.long, device=device, requires_grad=False)\n",
        "\n",
        "            preds = net(x_batch)\n",
        "            loss = criterion.forward(preds, y_batch)\n",
        "\n",
        "            n_correct += torch.sum(y_batch == torch.argmax(preds, axis=-1)).item()\n",
        "            loss_hist.append(loss.item())\n",
        "\n",
        "    print('Mean loss: {}'.format(np.mean(loss_hist)))    \n",
        "    accuracy = n_correct * 100. / len(y_test)\n",
        "    print('accuracy: {}'.format(accuracy))\n",
        "    return accuracy"
      ]
    },
    {
      "cell_type": "markdown",
      "metadata": {
        "id": "hfWceEZV72Zc"
      },
      "source": [
        "Check your network accuracy, it should be above 95% on test set to pass the grade."
      ]
    },
    {
      "cell_type": "code",
      "execution_count": 32,
      "metadata": {
        "id": "FYH8_pNi72Zd",
        "colab": {
          "base_uri": "https://localhost:8080/"
        },
        "outputId": "3a571f82-4478-448c-d6ee-2d57329b10c0"
      },
      "outputs": [
        {
          "metadata": {
            "tags": null
          },
          "name": "stdout",
          "output_type": "stream",
          "text": [
            "Mean loss: 0.18299509109851822\n",
            "accuracy: 96.89\n"
          ]
        }
      ],
      "source": [
        "accuracy = test_network_pytorch(net, X_test, y_test)\n",
        "assert accuracy > 95, accuracy"
      ]
    },
    {
      "cell_type": "code",
      "execution_count": 32,
      "metadata": {
        "id": "Mt_SgoA472Zd"
      },
      "outputs": [],
      "source": [
        ""
      ]
    }
  ],
  "metadata": {
    "kernelspec": {
      "display_name": "Python 3",
      "language": "python",
      "name": "python3"
    },
    "language_info": {
      "codemirror_mode": {
        "name": "ipython",
        "version": 3
      },
      "file_extension": ".py",
      "mimetype": "text/x-python",
      "name": "python",
      "nbconvert_exporter": "python",
      "pygments_lexer": "ipython3",
      "version": "3.8.5"
    },
    "colab": {
      "name": "homework_part1_main.ipynb",
      "provenance": []
    }
  },
  "nbformat": 4,
  "nbformat_minor": 0
}