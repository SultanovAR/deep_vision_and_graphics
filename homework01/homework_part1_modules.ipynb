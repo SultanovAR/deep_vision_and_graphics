{
  "cells": [
    {
      "cell_type": "code",
      "execution_count": 2,
      "metadata": {
        "id": "UrkSsCyT5CoR"
      },
      "outputs": [],
      "source": [
        "import numpy as np"
      ]
    },
    {
      "cell_type": "markdown",
      "metadata": {
        "id": "ObuqtNmF5CoW"
      },
      "source": [
        "**Module** is an abstract class which defines fundamental methods necessary for a training a neural network. You do not need to change anything here, just read the comments."
      ]
    },
    {
      "cell_type": "code",
      "execution_count": 3,
      "metadata": {
        "id": "9-RImaVZ5CoW"
      },
      "outputs": [],
      "source": [
        "class Module(object):\n",
        "    \"\"\"\n",
        "    Basically, you can think of a module as of a something (black box) \n",
        "    which can process `input` data and produce `ouput` data.\n",
        "    This is like applying a function which is called `forward`: \n",
        "        \n",
        "        output = module.forward(input)\n",
        "    \n",
        "    The module should be able to perform a backward pass: to differentiate the `forward` function. \n",
        "    More, it should be able to differentiate it if is a part of chain (chain rule).\n",
        "    The latter implies there is a gradient from previous step of a chain rule. \n",
        "    \n",
        "        input_grad = module.backward(input, output_grad)\n",
        "    \"\"\"\n",
        "    def __init__ (self):\n",
        "        self._output = None\n",
        "        self._input_grad = None\n",
        "        self.training = True\n",
        "    \n",
        "    def forward(self, input):\n",
        "        \"\"\"\n",
        "        Takes an input object, and computes the corresponding output of the module.\n",
        "        \"\"\"\n",
        "        self._output = self._compute_output(input)\n",
        "        return self._output\n",
        "\n",
        "    def backward(self, input, output_grad):\n",
        "        \"\"\"\n",
        "        Performs a backpropagation step through the module, with respect to the given input.\n",
        "        \n",
        "        This includes \n",
        "         - computing a gradient w.r.t. `input` (is needed for further backprop),\n",
        "         - computing a gradient w.r.t. parameters (to update parameters while optimizing).\n",
        "        \"\"\"\n",
        "        self._input_grad = self._compute_input_grad(input, output_grad)\n",
        "        self._update_parameters_grad(input, output_grad)\n",
        "        return self._input_grad\n",
        "    \n",
        "\n",
        "    def _compute_output(self, input):\n",
        "        \"\"\"\n",
        "        Computes the output using the current parameter set of the class and input.\n",
        "        This function returns the result which will be stored in the `_output` field.\n",
        "\n",
        "        Example: in case of identity operation:\n",
        "        \n",
        "        output = input \n",
        "        return output\n",
        "        \"\"\"\n",
        "        raise NotImplementedError\n",
        "        \n",
        "\n",
        "    def _compute_input_grad(self, input, output_grad):\n",
        "        \"\"\"\n",
        "        Returns the gradient of the module with respect to its own input. \n",
        "        The shape of the returned value is always the same as the shape of `input`.\n",
        "        \n",
        "        Example: in case of identity operation:\n",
        "        input_grad = output_grad\n",
        "        return input_grad\n",
        "        \"\"\"\n",
        "        \n",
        "        raise NotImplementedError\n",
        "    \n",
        "    def _update_parameters_grad(self, input, output_grad):\n",
        "        \"\"\"\n",
        "        Computing the gradient of the module with respect to its own parameters.\n",
        "        No need to override if module has no parameters (e.g. ReLU).\n",
        "        \"\"\"\n",
        "        pass\n",
        "    \n",
        "    def zero_grad(self): \n",
        "        \"\"\"\n",
        "        Zeroes `gradParams` variable if the module has params.\n",
        "        \"\"\"\n",
        "        pass\n",
        "        \n",
        "    def get_parameters(self):\n",
        "        \"\"\"\n",
        "        Returns a list with its parameters. \n",
        "        If the module does not have parameters return empty list. \n",
        "        \"\"\"\n",
        "        return []\n",
        "        \n",
        "    def get_parameters_grad(self):\n",
        "        \"\"\"\n",
        "        Returns a list with gradients with respect to its parameters. \n",
        "        If the module does not have parameters return empty list. \n",
        "        \"\"\"\n",
        "        return []\n",
        "    \n",
        "    def train(self):\n",
        "        \"\"\"\n",
        "        Sets training mode for the module.\n",
        "        Training and testing behaviour differs for Dropout, BatchNorm.\n",
        "        \"\"\"\n",
        "        self.training = True\n",
        "    \n",
        "    def evaluate(self):\n",
        "        \"\"\"\n",
        "        Sets evaluation mode for the module.\n",
        "        Training and testing behaviour differs for Dropout, BatchNorm.\n",
        "        \"\"\"\n",
        "        self.training = False\n",
        "    \n",
        "    def __repr__(self):\n",
        "        \"\"\"\n",
        "        Pretty printing. Should be overrided in every module if you want \n",
        "        to have readable description. \n",
        "        \"\"\"\n",
        "        return \"Module\""
      ]
    },
    {
      "cell_type": "markdown",
      "metadata": {
        "id": "3bZIgerk5Cob"
      },
      "source": [
        "# Sequential container"
      ]
    },
    {
      "cell_type": "markdown",
      "metadata": {
        "id": "YLxKoVrm5Cod"
      },
      "source": [
        "**Define** a forward and backward pass procedures."
      ]
    },
    {
      "cell_type": "code",
      "execution_count": 4,
      "metadata": {
        "id": "7Hs_eDpe5Coe"
      },
      "outputs": [],
      "source": [
        "from itertools import tee\n",
        "\n",
        "def pairwise(iterable):\n",
        "    # pairwise('ABCDEFG') --> AB BC CD DE EF FG\n",
        "    a, b = tee(iterable)\n",
        "    next(b, None)\n",
        "    return zip(a, b)\n",
        "\n",
        "class Sequential(Module):\n",
        "    \"\"\"\n",
        "         This class implements a container, which processes `input` data sequentially. \n",
        "         \n",
        "         `input` is processed by each module (layer) in self.modules consecutively.\n",
        "         The resulting array is called `_output`. \n",
        "    \"\"\"\n",
        "    \n",
        "    def __init__ (self):\n",
        "        super(Sequential, self).__init__()\n",
        "        self.modules = []\n",
        "   \n",
        "    def add_module(self, module):\n",
        "        \"\"\"\n",
        "        Adds a module to the container.\n",
        "        \"\"\"\n",
        "        self.modules.append(module)\n",
        "\n",
        "    def _compute_output(self, input):\n",
        "        \"\"\"\n",
        "        Basic workflow of FORWARD PASS:\n",
        "        \n",
        "            y_0    = module[0].forward(input)\n",
        "            y_1    = module[1].forward(y_0)\n",
        "            ...\n",
        "            output = module[n-1].forward(y_{n-2})   \n",
        "            \n",
        "            \n",
        "        Just write a little loop. \n",
        "        \"\"\"\n",
        "\n",
        "        y = input\n",
        "        for module in self.modules:\n",
        "            y = module.forward(input)\n",
        "        return y\n",
        "\n",
        "    def _compute_input_grad(self, input, output_grad):\n",
        "        \"\"\"\n",
        "        Workflow of BACKWARD PASS:\n",
        "            \n",
        "            g_{n-1} = module[n-1].backward(y_{n-2}, output_grad)\n",
        "            g_{n-2} = module[n-2].backward(y_{n-3}, g_{n-1})\n",
        "            ...\n",
        "            g_1 = module[1].backward(y_0, g_2)   \n",
        "            grad_input = module[0].backward(input, g_1)   \n",
        "             \n",
        "             \n",
        "        !!!\n",
        "                \n",
        "        To each module you need to provide the input, module saw while forward pass, \n",
        "        it is used while computing gradients. \n",
        "        Make sure that the input for `i-th` layer the output of `module[i]` (just the same input as in forward pass) \n",
        "        and NOT `input` to this Sequential module. \n",
        "        \n",
        "        !!!\n",
        "        \n",
        "        \"\"\"\n",
        "\n",
        "        grad_input = output_grad\n",
        "\n",
        "        for module_cur, module_prev in pairwise(reversed(self.modules)):\n",
        "            grad_input = module_cur.backward(module_prev._output, grad_input)\n",
        "\n",
        "        grad_input = self.modules[0].backward(input, grad_input)\n",
        "\n",
        "        return grad_input\n",
        "      \n",
        "\n",
        "    def zero_grad(self): \n",
        "        for module in self.modules:\n",
        "            module.zero_grad()\n",
        "    \n",
        "    def get_parameters(self):\n",
        "        \"\"\"\n",
        "        Should gather all parameters in a list.\n",
        "        \"\"\"\n",
        "        return [x.get_parameters() for x in self.modules]\n",
        "    \n",
        "    def get_parameters_grad(self):\n",
        "        \"\"\"\n",
        "        Should gather all gradients w.r.t parameters in a list.\n",
        "        \"\"\"\n",
        "        return [x.get_parameters_grad() for x in self.modules]\n",
        "    \n",
        "    def __repr__(self):\n",
        "        string = \"\".join([str(x) + '\\n' for x in self.modules])\n",
        "        return string\n",
        "    \n",
        "    def __getitem__(self, x):\n",
        "        return self.modules.__getitem__(x)\n",
        "    \n",
        "    def train(self):\n",
        "        \"\"\"\n",
        "        Propagates training parameter through all modules\n",
        "        \"\"\"\n",
        "        self.training = True\n",
        "        for module in self.modules:\n",
        "            module.train()\n",
        "    \n",
        "    def evaluate(self):\n",
        "        \"\"\"\n",
        "        Propagates training parameter through all modules\n",
        "        \"\"\"\n",
        "        self.training = False\n",
        "        for module in self.modules:\n",
        "            module.evaluate()"
      ]
    },
    {
      "cell_type": "markdown",
      "metadata": {
        "id": "isbDKqDW5Col"
      },
      "source": [
        "# Layers"
      ]
    },
    {
      "cell_type": "markdown",
      "metadata": {
        "id": "aFnN0hb-5Col"
      },
      "source": [
        "## 1. Linear transform layer\n",
        "Also known as dense layer, fully-connected layer, FC-layer, InnerProductLayer (in caffe), affine transform\n",
        "- input:   **`batch_size x n_feats1`**\n",
        "- output: **`batch_size x n_feats2`**"
      ]
    },
    {
      "cell_type": "code",
      "source": [
        "a = np.arange(6).reshape(3, 2)\n",
        "a"
      ],
      "metadata": {
        "colab": {
          "base_uri": "https://localhost:8080/"
        },
        "id": "Vr6d351Rpy7Z",
        "outputId": "5eff4286-c4f0-48eb-dfb1-6775edbb7fa7"
      },
      "execution_count": 5,
      "outputs": [
        {
          "output_type": "execute_result",
          "data": {
            "text/plain": [
              "array([[0, 1],\n",
              "       [2, 3],\n",
              "       [4, 5]])"
            ]
          },
          "metadata": {},
          "execution_count": 5
        }
      ]
    },
    {
      "cell_type": "code",
      "source": [
        "b = np.arange(12).reshape(3, 4)\n",
        "b"
      ],
      "metadata": {
        "colab": {
          "base_uri": "https://localhost:8080/"
        },
        "id": "RuWvhI_SqD3j",
        "outputId": "91614263-3678-4ff5-ae7b-e28d3654361a"
      },
      "execution_count": 6,
      "outputs": [
        {
          "output_type": "execute_result",
          "data": {
            "text/plain": [
              "array([[ 0,  1,  2,  3],\n",
              "       [ 4,  5,  6,  7],\n",
              "       [ 8,  9, 10, 11]])"
            ]
          },
          "metadata": {},
          "execution_count": 6
        }
      ]
    },
    {
      "cell_type": "code",
      "source": [
        "a[:, :, None] @ b[:, None, :]"
      ],
      "metadata": {
        "colab": {
          "base_uri": "https://localhost:8080/"
        },
        "id": "KZ-hAiGBq94K",
        "outputId": "feb7cf9a-0380-4e82-a0b3-4a3e243c6c07"
      },
      "execution_count": 7,
      "outputs": [
        {
          "output_type": "execute_result",
          "data": {
            "text/plain": [
              "array([[[ 0,  0,  0,  0],\n",
              "        [ 0,  1,  2,  3]],\n",
              "\n",
              "       [[ 8, 10, 12, 14],\n",
              "        [12, 15, 18, 21]],\n",
              "\n",
              "       [[32, 36, 40, 44],\n",
              "        [40, 45, 50, 55]]])"
            ]
          },
          "metadata": {},
          "execution_count": 7
        }
      ]
    },
    {
      "cell_type": "code",
      "execution_count": 8,
      "metadata": {
        "id": "Mgx-6sK65Com"
      },
      "outputs": [],
      "source": [
        "class Linear(Module):\n",
        "    \"\"\"\n",
        "    A module which applies a linear transformation \n",
        "    A common name is fully-connected layer, InnerProductLayer in caffe. \n",
        "    \n",
        "    The module should work with 2D input of shape (n_samples, n_feature).\n",
        "    \"\"\"\n",
        "    def __init__(self, n_in, n_out):\n",
        "        super(Linear, self).__init__()\n",
        "       \n",
        "        # This is a nice initialization\n",
        "        stdv = 1. / np.sqrt(n_in)\n",
        "        self.W = np.random.uniform(-stdv, stdv, size=(n_out, n_in))\n",
        "        self.b = np.random.uniform(-stdv, stdv, size=n_out)\n",
        "        \n",
        "        self.gradW = np.zeros_like(self.W)\n",
        "        self.gradb = np.zeros_like(self.b)\n",
        "        \n",
        "    def _compute_output(self, input):\n",
        "        # Your code goes here. ################################################\n",
        "        output = input @ self.W.T + self.b[None, :]\n",
        "        return output\n",
        "    \n",
        "    def _compute_input_grad(self, input, output_grad):\n",
        "        # Your code goes here. ################################################\n",
        "        grad_input = output_grad @ self.W\n",
        "        return grad_input\n",
        "    \n",
        "    def _update_parameters_grad(self, input, output_grad):\n",
        "        # Your code goes here. ################################################\n",
        "        self.gradW = np.sum(output_grad[:, :, None] @ input[:, None, :], axis=0)\n",
        "        self.gradb = np.sum(output_grad, axis=0)\n",
        "        pass\n",
        "    \n",
        "    def zero_grad(self):\n",
        "        self.gradW.fill(0)\n",
        "        self.gradb.fill(0)\n",
        "        \n",
        "    def get_parameters(self):\n",
        "        return [self.W, self.b]\n",
        "    \n",
        "    def get_parameters_grad(self):\n",
        "        return [self.gradW, self.gradb]\n",
        "    \n",
        "    def __repr__(self):\n",
        "        s = self.W.shape\n",
        "        q = 'Linear %d -> %d' %(s[1], s[0])\n",
        "        return q"
      ]
    },
    {
      "cell_type": "markdown",
      "metadata": {
        "id": "GHyxnMR_5Con"
      },
      "source": [
        "## 2. SoftMax\n",
        "- input:   **`batch_size x n_feats`**\n",
        "- output: **`batch_size x n_feats`**\n",
        "\n",
        "$\\text{softmax}(x)_i = \\frac{\\exp x_i} {\\sum_j \\exp x_j}$\n",
        "\n",
        "Recall that $\\text{softmax}(x) == \\text{softmax}(x - \\text{const})$. It makes possible to avoid computing exp() from large argument."
      ]
    },
    {
      "cell_type": "code",
      "execution_count": null,
      "metadata": {
        "id": "Ra2UZEqZ5Con"
      },
      "outputs": [],
      "source": [
        "class SoftMax(Module):\n",
        "    def __init__(self):\n",
        "         super(SoftMax, self).__init__()\n",
        "    \n",
        "    def _compute_output(self, input):\n",
        "        # start with normalization for numerical stability\n",
        "        output = np.subtract(input, input.max(axis=1, keepdims=True))\n",
        "        \n",
        "        # Your code goes here. ################################################\n",
        "        \n",
        "        output = np.exp(output)\n",
        "        output = output / np.sum(output, axis=1)[:, None]\n",
        "        return output\n",
        "    \n",
        "    def _compute_input_grad(self, input, output_grad):\n",
        "        # Your code goes here. ################################################\n",
        "        \n",
        "        # you can reuse self._output var with results of forward pass\n",
        "        \n",
        "        diag = np.einsum('ij,jm->ijm', self._output, np.eye(self._output.shape[1]))\n",
        "        grad_input = diag - self._output[:, :, None] @ self._output[:, None, :]\n",
        "        grad_input = np.squeeze(output_grad[:, None, :] @ grad_input)\n",
        "        return grad_input\n",
        "    \n",
        "    def __repr__(self):\n",
        "        return \"SoftMax\""
      ]
    },
    {
      "cell_type": "markdown",
      "metadata": {
        "id": "hw7r_fcP5Cop"
      },
      "source": [
        "## 3. LogSoftMax\n",
        "- input:   **`batch_size x n_feats`**\n",
        "- output: **`batch_size x n_feats`**\n",
        "\n",
        "$\\text{logsoftmax}(x)_i = \\log\\text{softmax}(x)_i = x_i - \\log {\\sum_j \\exp x_j}$\n",
        "\n",
        "The main goal of this layer is to be used in computation of log-likelihood loss."
      ]
    },
    {
      "cell_type": "code",
      "execution_count": 10,
      "metadata": {
        "id": "-5MaZVah5Coq"
      },
      "outputs": [],
      "source": [
        "class LogSoftMax(Module):\n",
        "    def __init__(self):\n",
        "         super(LogSoftMax, self).__init__()\n",
        "    \n",
        "    def _compute_output(self, input):\n",
        "        # start with normalization for numerical stability\n",
        "        output = np.subtract(input, input.max(axis=1, keepdims=True))\n",
        "\n",
        "        # Your code goes here. ################################################\n",
        "        \n",
        "        output = input - np.log(np.sum(np.exp(input), axis=1))[:, None]\n",
        "        return output\n",
        "    \n",
        "    def _compute_input_grad(self, input, output_grad):\n",
        "        # Your code goes here. ################################################\n",
        "        \n",
        "        grad_input = - np.exp(self._output)\n",
        "        grad_input = grad_input[:, None, :] + np.eye(self._output.shape[1])[None, :, :]\n",
        "        grad_input = output_grad[:, None, :] @ grad_input\n",
        "        return grad_input\n",
        "    \n",
        "    def __repr__(self):\n",
        "        return \"LogSoftMax\""
      ]
    },
    {
      "cell_type": "markdown",
      "metadata": {
        "id": "ybvPD8p05Coq"
      },
      "source": [
        "## 4. Batch normalization\n",
        "One of the most significant recent ideas that impacted NNs a lot is [**Batch normalization**](http://arxiv.org/abs/1502.03167). The idea is simple, yet effective: the features should be whitened ($mean = 0$, $std = 1$) all the way through NN. This improves the convergence for deep models letting it train them for days but not weeks. **You are** to implement the first part of the layer: features normalization. The second part (`ChannelwiseScaling` layer) is implemented below.\n",
        "\n",
        "- input:   **`batch_size x n_feats`**\n",
        "- output: **`batch_size x n_feats`**\n",
        "\n",
        "The layer should work as follows. While training (`self.training == True`) it transforms input as $$y = \\frac{x - \\mu}  {\\sqrt{\\sigma + \\epsilon}}$$\n",
        "where $\\mu$ and $\\sigma$ - mean and variance of feature values in **batch** and $\\epsilon$ is just a small number for numericall stability. Also during training, layer should maintain exponential moving average values for mean and variance: \n",
        "```\n",
        "    self.moving_mean = self.moving_mean * alpha + batch_mean * (1 - alpha)\n",
        "    self.moving_variance = self.moving_variance * alpha + batch_variance * (1 - alpha)\n",
        "```\n",
        "During testing (`self.training == False`) the layer normalizes input using moving_mean and moving_variance. \n",
        "\n",
        "Note that decomposition of batch normalization on normalization itself and channelwise scaling here is just a common **implementation** choice. In general \"batch normalization\" always assumes normalization + scaling."
      ]
    },
    {
      "cell_type": "code",
      "execution_count": null,
      "metadata": {
        "id": "XQRFBjo55Cos"
      },
      "outputs": [],
      "source": [
        "class BatchNormalization(Module):\n",
        "    EPS = 1e-3\n",
        "\n",
        "    def __init__(self, alpha=0.):\n",
        "        super(BatchNormalization, self).__init__()\n",
        "        self.alpha = alpha\n",
        "        self.moving_mean = 0.\n",
        "        self.moving_variance = 1.\n",
        "\n",
        "    def _compute_output(self, input):\n",
        "        # Your code goes here. ################################################\n",
        "        \n",
        "        if self.training:\n",
        "            batch_mean = input.mean(axis=0)\n",
        "            batch_variance = input.var(axis=0)\n",
        "\n",
        "            output = (input - batch_mean) / np.sqrt(batch_variance + BatchNormalization.EPS)\n",
        "\n",
        "            self.moving_mean = self.moving_mean * self.alpha + batch_mean * (1 - self.alpha)\n",
        "            self.moving_variance = self.moving_variance * self.alpha + batch_variance * (1 - self.alpha)\n",
        "        else:\n",
        "            output = (input - self.moving_mean) / np.sqrt(self.moving_variance + BatchNormalization.EPS)\n",
        "        return output\n",
        "\n",
        "    def _compute_input_grad(self, input, output_grad):\n",
        "        # Your code goes here. ################################################\n",
        "        if self.training:\n",
        "            grad_input = output_grad / np.sqrt(input.var(axis=0) + BatchNormalization.EPS)\n",
        "        else:\n",
        "            grad_input = output_grad / np.sqrt(self.moving_variance + BatchNormalization.EPS)\n",
        "        return grad_input\n",
        "\n",
        "    def __repr__(self):\n",
        "        return \"BatchNormalization\""
      ]
    },
    {
      "cell_type": "code",
      "execution_count": null,
      "metadata": {
        "id": "iU8LwKVy5Cot"
      },
      "outputs": [],
      "source": [
        "class ChannelwiseScaling(Module):\n",
        "    \"\"\"\n",
        "       Implements linear transform of input y = \\gamma * x + \\beta\n",
        "       where \\gamma, \\beta - learnable vectors of length x.shape[-1]\n",
        "    \"\"\"\n",
        "    def __init__(self, n_out):\n",
        "        super(ChannelwiseScaling, self).__init__()\n",
        "\n",
        "        stdv = 1./np.sqrt(n_out)\n",
        "        self.gamma = np.random.uniform(-stdv, stdv, size=n_out)\n",
        "        self.beta = np.random.uniform(-stdv, stdv, size=n_out)\n",
        "        \n",
        "        self.gradGamma = np.zeros_like(self.gamma)\n",
        "        self.gradBeta = np.zeros_like(self.beta)\n",
        "\n",
        "    def _compute_output(self, input):\n",
        "        output = input * self.gamma + self.beta\n",
        "        return output\n",
        "        \n",
        "    def _compute_input_grad(self, input, output_grad):\n",
        "        grad_input = output_grad * self.gamma\n",
        "        return grad_input\n",
        "    \n",
        "    def _update_parameters_grad(self, input, output_grad):\n",
        "        self.gradBeta = np.sum(output_grad, axis=0)\n",
        "        self.gradGamma = np.sum(output_grad*input, axis=0)\n",
        "    \n",
        "    def zero_grad(self):\n",
        "        self.gradGamma.fill(0)\n",
        "        self.gradBeta.fill(0)\n",
        "        \n",
        "    def get_parameters(self):\n",
        "        return [self.gamma, self.beta]\n",
        "    \n",
        "    def get_parameters_grad(self):\n",
        "        return [self.gradGamma, self.gradBeta]\n",
        "    \n",
        "    def __repr__(self):\n",
        "        return \"ChannelwiseScaling\""
      ]
    },
    {
      "cell_type": "markdown",
      "metadata": {
        "id": "lDIWs4955Cou"
      },
      "source": [
        "Practical notes. If BatchNormalization is placed after a linear transformation layer (including dense layer, convolutions, channelwise scaling) that implements function like `y = weight * x + bias`, than bias adding become useless and could be omitted since its effect will be discarded while batch mean subtraction. If BatchNormalization (followed by `ChannelwiseScaling`) is placed before a layer that propagates scale (including ReLU, LeakyReLU) followed by any linear transformation layer than parameter `gamma` in `ChannelwiseScaling` could be freezed since it could be absorbed into the linear transformation layer."
      ]
    },
    {
      "cell_type": "markdown",
      "metadata": {
        "id": "F9Wcfkiu5Cov"
      },
      "source": [
        "## 5. Dropout\n",
        "Implement [**dropout**](https://www.cs.toronto.edu/~hinton/absps/JMLRdropout.pdf). The idea and implementation is really simple: just multimply the input by $Bernoulli(p)$ mask. Here $p$ is probability of an element to be zeroed.\n",
        "\n",
        "This has proven to be an effective technique for regularization and preventing the co-adaptation of neurons.\n",
        "\n",
        "While training (`self.training == True`) it should sample a mask on each iteration (for every batch), zero out elements and multiply elements by $1 / (1 - p)$. The latter is needed for keeping mean values of features close to mean values which will be in test mode. When testing this module should implement identity transform i.e. `output = input`.\n",
        "\n",
        "- input:   **`batch_size x n_feats`**\n",
        "- output: **`batch_size x n_feats`**"
      ]
    },
    {
      "cell_type": "code",
      "source": [
        "np.random.binomial(1, 1-0.9, size=20)"
      ],
      "metadata": {
        "colab": {
          "base_uri": "https://localhost:8080/"
        },
        "id": "meyD2MVZmDBi",
        "outputId": "2fbcc04d-3920-4104-f142-0cbc5c06ebe2"
      },
      "execution_count": null,
      "outputs": [
        {
          "output_type": "execute_result",
          "data": {
            "text/plain": [
              "array([0, 0, 0, 0, 1, 0, 0, 0, 0, 0, 1, 0, 0, 0, 0, 1, 1, 0, 0, 0])"
            ]
          },
          "metadata": {},
          "execution_count": 26
        }
      ]
    },
    {
      "cell_type": "code",
      "execution_count": null,
      "metadata": {
        "id": "AxnN67MZ5Cow"
      },
      "outputs": [],
      "source": [
        "class Dropout(Module):\n",
        "    def __init__(self, p=0.5):\n",
        "        super(Dropout, self).__init__()\n",
        "        \n",
        "        self.p = p\n",
        "        self.mask = []\n",
        "        \n",
        "    def _compute_output(self, input):\n",
        "        # Your code goes here. ################################################\n",
        "\n",
        "        if self.training:\n",
        "            self.mask = np.random.binomial(1, 1 - self.p, size=input.shape)\n",
        "            input = input * self.mask / (1 - self.p)\n",
        "        else:\n",
        "            output = input\n",
        "        return output\n",
        "    \n",
        "    def _compute_input_grad(self, input, output_grad):\n",
        "        # Your code goes here. ################################################\n",
        "        \n",
        "        if self.training:\n",
        "            grad_input = np.multiply(output_grad, self.mask)\n",
        "        else:\n",
        "            grad_input = output_grad\n",
        "        return grad_input\n",
        "        \n",
        "    def __repr__(self):\n",
        "        return \"Dropout\""
      ]
    },
    {
      "cell_type": "markdown",
      "metadata": {
        "id": "_GX9gGOg5Cox"
      },
      "source": [
        "# Activation functions"
      ]
    },
    {
      "cell_type": "markdown",
      "metadata": {
        "id": "8MJPzJVe5Cox"
      },
      "source": [
        "Here's the complete example for the **Rectified Linear Unit** non-linearity (aka **ReLU**): "
      ]
    },
    {
      "cell_type": "code",
      "execution_count": null,
      "metadata": {
        "id": "Z2NfPlbh5Cox"
      },
      "outputs": [],
      "source": [
        "class ReLU(Module):\n",
        "    def __init__(self):\n",
        "         super(ReLU, self).__init__()\n",
        "    \n",
        "    def _compute_output(self, input):\n",
        "        output = np.maximum(input, 0)\n",
        "        return output\n",
        "    \n",
        "    def _compute_input_grad(self, input, output_grad):\n",
        "        grad_input = np.multiply(output_grad , input > 0)\n",
        "        return grad_input\n",
        "    \n",
        "    def __repr__(self):\n",
        "        return \"ReLU\""
      ]
    },
    {
      "cell_type": "markdown",
      "metadata": {
        "id": "KF3rbhco5Cox"
      },
      "source": [
        "## 6. Leaky ReLU\n",
        "Implement [**Leaky Rectified Linear Unit**](http://en.wikipedia.org/wiki%2FRectifier_%28neural_networks%29%23Leaky_ReLUs). Expriment with slope. "
      ]
    },
    {
      "cell_type": "code",
      "source": [
        "a = np.arange(9).reshape(3, 3) \n",
        "print(a)\n",
        "np.where(a > 5, 1, 2)"
      ],
      "metadata": {
        "id": "YVG4no2tsGqF",
        "outputId": "3d24f402-9430-41ff-d0ef-29ff94974d1f",
        "colab": {
          "base_uri": "https://localhost:8080/"
        }
      },
      "execution_count": null,
      "outputs": [
        {
          "output_type": "stream",
          "name": "stdout",
          "text": [
            "[[0 1 2]\n",
            " [3 4 5]\n",
            " [6 7 8]]\n"
          ]
        },
        {
          "output_type": "execute_result",
          "data": {
            "text/plain": [
              "array([[2, 2, 2],\n",
              "       [2, 2, 2],\n",
              "       [1, 1, 1]])"
            ]
          },
          "metadata": {},
          "execution_count": 29
        }
      ]
    },
    {
      "cell_type": "code",
      "execution_count": null,
      "metadata": {
        "id": "QwO1ftVt5Cox"
      },
      "outputs": [],
      "source": [
        "class LeakyReLU(Module):\n",
        "    def __init__(self, slope = 0.03):\n",
        "        super(LeakyReLU, self).__init__()\n",
        "            \n",
        "        self.slope = slope\n",
        "        \n",
        "    def _compute_output(self, input):\n",
        "        # Your code goes here. ################################################\n",
        "\n",
        "        output = np.where(input > 0, 1, self.slope)\n",
        "        np.multiply(input, mask, out=output)\n",
        "        return output\n",
        "    \n",
        "    def _compute_input_grad(self, input, output_grad):\n",
        "        # Your code goes here. ################################################\n",
        "        \n",
        "        grad_input = np.where(input > 0, 1, self.slope)\n",
        "        np.multiply(output_grad, grad_input, out=grad_input)\n",
        "        return grad_input\n",
        "    \n",
        "    def __repr__(self):\n",
        "        return \"LeakyReLU\""
      ]
    },
    {
      "cell_type": "markdown",
      "metadata": {
        "id": "AIW1S92a5Coy"
      },
      "source": [
        "## 7. ELU\n",
        "Implement [**Exponential Linear Units**](http://arxiv.org/abs/1511.07289) activations."
      ]
    },
    {
      "cell_type": "code",
      "source": [
        "np.where(np.arange(9).reshape(3, 3) > 4, 1, np.arange(100, 109).reshape(3, 3))"
      ],
      "metadata": {
        "id": "y0mV1Oi8mX-f",
        "outputId": "18dc4038-2b66-46c1-906e-5cc965d18685",
        "colab": {
          "base_uri": "https://localhost:8080/"
        }
      },
      "execution_count": null,
      "outputs": [
        {
          "output_type": "execute_result",
          "data": {
            "text/plain": [
              "array([[100, 101, 102],\n",
              "       [103, 104,   1],\n",
              "       [  1,   1,   1]])"
            ]
          },
          "metadata": {},
          "execution_count": 31
        }
      ]
    },
    {
      "cell_type": "code",
      "execution_count": null,
      "metadata": {
        "id": "ReldCTUC5Coy"
      },
      "outputs": [],
      "source": [
        "class ELU(Module):\n",
        "    def __init__(self, alpha = 1.0):\n",
        "        super(ELU, self).__init__()\n",
        "        \n",
        "        self.alpha = alpha\n",
        "        \n",
        "    def _compute_output(self, input):\n",
        "        # Your code goes here. ################################################\n",
        "        \n",
        "        output = np.where(input > 0, input, self.alpha * (np.exp(input) - 1))\n",
        "        return output\n",
        "    \n",
        "    def _compute_input_grad(self, input, output_grad):\n",
        "        # Your code goes here. ################################################\n",
        "        \n",
        "\n",
        "        grad_input = np.where(input > 0, 1, self.output + self.alpha)\n",
        "        np.multiply(output_grad, grad_input, out=grad_input)\n",
        "        return grad_input\n",
        "    \n",
        "    def __repr__(self):\n",
        "        return \"ELU\""
      ]
    },
    {
      "cell_type": "markdown",
      "metadata": {
        "id": "6r6S8FDX5Coy"
      },
      "source": [
        "## 8. SoftPlus\n",
        "Implement [**SoftPlus**](https://en.wikipedia.org/wiki%2FRectifier_%28neural_networks%29) activations. Look, how they look a lot like ReLU."
      ]
    },
    {
      "cell_type": "code",
      "execution_count": null,
      "metadata": {
        "id": "4TK-xdDD5Coy"
      },
      "outputs": [],
      "source": [
        "class SoftPlus(Module):\n",
        "    def __init__(self):\n",
        "        super(SoftPlus, self).__init__()\n",
        "    \n",
        "    def _compute_output(self, input):\n",
        "        # Your code goes here. ################################################\n",
        "        \n",
        "        output = np.log(1 + np.exp(input))\n",
        "        return output\n",
        "    \n",
        "    def _compute_input_grad(self, input, output_grad):\n",
        "        # Your code goes here. ################################################\n",
        "        \n",
        "        grad_input = 1 - np.exp(-self._output)\n",
        "        return grad_input\n",
        "    \n",
        "    def __repr__(self):\n",
        "        return \"SoftPlus\""
      ]
    },
    {
      "cell_type": "markdown",
      "metadata": {
        "id": "l9VBQn-K5Coz"
      },
      "source": [
        "# Criterions"
      ]
    },
    {
      "cell_type": "markdown",
      "metadata": {
        "id": "glulPCOs5Coz"
      },
      "source": [
        "Criterions are used to score the models answers. "
      ]
    },
    {
      "cell_type": "code",
      "execution_count": null,
      "metadata": {
        "id": "D5zq9hp_5Coz"
      },
      "outputs": [],
      "source": [
        "class Criterion(object):\n",
        "    def __init__ (self):\n",
        "        self._output = None\n",
        "        self._input_grad = None\n",
        "        \n",
        "    def forward(self, input, target):\n",
        "        \"\"\"\n",
        "            Given an input and a target, compute the loss function \n",
        "            associated to the criterion and return the result.\n",
        "            \n",
        "            For consistency this function should not be overrided,\n",
        "            all the code goes in `_compute_output`.\n",
        "        \"\"\"\n",
        "        self._output = self._compute_output(input, target)\n",
        "        return self._output\n",
        "\n",
        "    def backward(self, input, target):\n",
        "        \"\"\"\n",
        "            Given an input and a target, compute the gradients of the loss function\n",
        "            associated to the criterion and return the result. \n",
        "\n",
        "            For consistency this function should not be overrided,\n",
        "            all the code goes in `_compute_input_grad`.\n",
        "        \"\"\"\n",
        "        self._input_grad = self._compute_input_grad(input, target)\n",
        "        return self._input_grad\n",
        "    \n",
        "    def _compute_output(self, input, target):\n",
        "        \"\"\"\n",
        "        Function to override.\n",
        "        \"\"\"\n",
        "        raise NotImplementedError\n",
        "\n",
        "    def _compute_input_grad(self, input, target):\n",
        "        \"\"\"\n",
        "        Returns gradient of input wrt output\n",
        "        \n",
        "        Function to override.\n",
        "        \"\"\"\n",
        "        raise NotImplementedError\n",
        "\n",
        "    def __repr__(self):\n",
        "        \"\"\"\n",
        "        Pretty printing. Should be overrided in every module if you want \n",
        "        to have readable description. \n",
        "        \"\"\"\n",
        "        return \"Criterion\""
      ]
    },
    {
      "cell_type": "markdown",
      "metadata": {
        "id": "_h7FqLVl5Coz"
      },
      "source": [
        "The **MSECriterion**, which is basic L2 norm usually used for regression, is implemented here for you.\n",
        "- input:   **`batch_size x n_feats`**\n",
        "- target: **`batch_size x n_feats`**\n",
        "- output: **scalar**"
      ]
    },
    {
      "cell_type": "code",
      "execution_count": null,
      "metadata": {
        "id": "ig_PoZnx5Co0"
      },
      "outputs": [],
      "source": [
        "class MSECriterion(Criterion):\n",
        "    def __init__(self):\n",
        "        super(MSECriterion, self).__init__()\n",
        "        \n",
        "    def _compute_output(self, input, target):   \n",
        "        output = np.sum(np.power(input - target,2)) / input.shape[0]\n",
        "        return output \n",
        " \n",
        "    def _compute_input_grad(self, input, target):\n",
        "        grad  = (input - target) * 2 / input.shape[0]\n",
        "        return grad\n",
        "\n",
        "    def __repr__(self):\n",
        "        return \"MSECriterion\""
      ]
    },
    {
      "cell_type": "markdown",
      "metadata": {
        "id": "qz0dtHna5Co0"
      },
      "source": [
        "## 9. Negative LogLikelihood criterion (numerically unstable)\n",
        "You task is to implement the **ClassNLLCriterion**. It should implement [multiclass log loss](http://scikit-learn.org/stable/modules/model_evaluation.html#log-loss). Nevertheless there is a sum over `y` (target) in that formula, \n",
        "remember that targets are one-hot encoded. This fact simplifies the computations a lot. Note, that criterions are the only places, where you divide by batch size. Also there is a small hack with adding small number to probabilities to avoid computing log(0).\n",
        "- input:   **`batch_size x n_feats`** - probabilities\n",
        "- target: **`batch_size x n_feats`** - one-hot representation of ground truth\n",
        "- output: **scalar**\n",
        "\n"
      ]
    },
    {
      "cell_type": "code",
      "source": [
        "mask = np.array([[0, 1, 0], [1, 0, 0], [0, 0, 0]]).astype(bool)\n",
        "a = np.arange(9).reshape(3, 3)\n",
        "\n",
        "\n",
        "print(np.sum(a, where=mask))\n",
        "print(a)\n",
        "a[mask]"
      ],
      "metadata": {
        "id": "j9_BWUioszh1",
        "outputId": "142a5ed1-4275-43e9-8e76-da64132fb6f1",
        "colab": {
          "base_uri": "https://localhost:8080/"
        }
      },
      "execution_count": null,
      "outputs": [
        {
          "output_type": "stream",
          "name": "stdout",
          "text": [
            "4\n",
            "[[0 1 2]\n",
            " [3 4 5]\n",
            " [6 7 8]]\n"
          ]
        },
        {
          "output_type": "execute_result",
          "data": {
            "text/plain": [
              "array([1, 3])"
            ]
          },
          "metadata": {},
          "execution_count": 45
        }
      ]
    },
    {
      "cell_type": "code",
      "execution_count": null,
      "metadata": {
        "id": "gmW6jiaK5Co0"
      },
      "outputs": [],
      "source": [
        "class ClassNLLCriterionUnstable(Criterion):\n",
        "    EPS = 1e-15\n",
        "    def __init__(self):\n",
        "        a = super(ClassNLLCriterionUnstable, self)\n",
        "        super(ClassNLLCriterionUnstable, self).__init__()\n",
        "        \n",
        "    def _compute_output(self, input, target): \n",
        "        # Use this trick to avoid numerical errors\n",
        "        input_clamp = np.clip(input, self.EPS, 1 - self.EPS)\n",
        "        # Your code goes here. ################################################\n",
        "        \n",
        "        output = -np.sum(np.log(input_clamp[target])) / input_clamp.shape[0]\n",
        "        return output\n",
        "\n",
        "    def _compute_input_grad(self, input, target):\n",
        "        # Use this trick to avoid numerical errors\n",
        "        input_clamp = np.clip(input, self.EPS, 1 - self.EPS)\n",
        "        \n",
        "        # Your code goes here. ################################################        \n",
        "        \n",
        "        grad = - target / input_clamp\n",
        "        return grad\n",
        "    \n",
        "    def __repr__(self):\n",
        "        return \"ClassNLLCriterionUnstable\""
      ]
    },
    {
      "cell_type": "markdown",
      "metadata": {
        "id": "H8sbrlpa5Co0"
      },
      "source": [
        "## 10. Negative LogLikelihood criterion (numerically stable)\n",
        "- input:   **`batch_size x n_feats`** - log probabilities\n",
        "- target: **`batch_size x n_feats`** - one-hot representation of ground truth\n",
        "- output: **scalar**\n",
        "\n",
        "Task is similar to the previous one, but now the criterion input is the output of log-softmax layer. This decomposition allows us to avoid problems with computation of forward and backward of log()."
      ]
    },
    {
      "cell_type": "code",
      "execution_count": null,
      "metadata": {
        "id": "EESaiWBQ5Co1"
      },
      "outputs": [],
      "source": [
        "class ClassNLLCriterion(Criterion):\n",
        "    def __init__(self):\n",
        "        a = super(ClassNLLCriterion, self)\n",
        "        super(ClassNLLCriterion, self).__init__()\n",
        "        \n",
        "    def _compute_output(self, input, target): \n",
        "        # Your code goes here. ################################################\n",
        "        output = - np.sum(input[target]) / input.shape[0]\n",
        "        return output\n",
        "\n",
        "    def _compute_input_grad(self, input, target):\n",
        "        # Your code goes here. ################################################\n",
        "        grad_input = - target\n",
        "        return grad_input\n",
        "    \n",
        "    def __repr__(self):\n",
        "        return \"ClassNLLCriterion\""
      ]
    },
    {
      "cell_type": "markdown",
      "metadata": {
        "id": "TBTRnhfd5Co1"
      },
      "source": [
        "# Optimizers"
      ]
    },
    {
      "cell_type": "code",
      "execution_count": null,
      "metadata": {
        "id": "1EKwcYXTg2OA"
      },
      "outputs": [],
      "source": [
        "class Optimizer(object):\n",
        "    def __init__(self, network):\n",
        "        self._network = network  # contains trainable paramenters and their gradients\n",
        "        self._state = {}  # any information needed to save between optimizer iterations\n",
        "\n",
        "    def step(self):\n",
        "        \"\"\"\n",
        "        Updates network parameters\n",
        "        \"\"\"\n",
        "        raise NotImplementedError"
      ]
    },
    {
      "cell_type": "markdown",
      "metadata": {
        "id": "yMEgE9hQ5Co1"
      },
      "source": [
        "### SGD optimizer with momentum"
      ]
    },
    {
      "cell_type": "markdown",
      "metadata": {
        "id": "KOMYDr4ig2OA"
      },
      "source": [
        "On each step it uses the following formulas for network parameters update:\n",
        "$$v_{t+1} = \\mu * v_t + g_{t+1}$$\n",
        "$$p_{t+1} = p_t - \\alpha * v_{t+1}$$\n",
        "Where $p_t$ - network parameters, $v_t$ - velocity, $\\mu$ - momentum, $\\alpha$ - learning rate, $g_t$ - gradients.\n",
        "\n",
        "Check `torch.optim.SGD` documentation"
      ]
    },
    {
      "cell_type": "code",
      "execution_count": null,
      "metadata": {
        "id": "UOD3wIyq5Co1"
      },
      "outputs": [],
      "source": [
        "class SGD(Optimizer):\n",
        "    def __init__(self, network, lr, momentum=0.0):\n",
        "        super(SGD, self).__init__(network)\n",
        "        self._learning_rate = lr\n",
        "        self._momentum = momentum\n",
        "        \n",
        "    def step(self):\n",
        "        variables = self._network.get_parameters()\n",
        "        gradients = self._network.get_parameters_grad()\n",
        "        \n",
        "        # 'variables' and 'gradients' have complex structure, accumulated_grads will be stored in a simpler one\n",
        "        self._state.setdefault('accumulated_grads', {})\n",
        "    \n",
        "        var_index = 0 \n",
        "        for current_layer_vars, current_layer_grads in zip(variables, gradients):\n",
        "            for current_var, current_grad in zip(current_layer_vars, current_layer_grads):\n",
        "                old_grad = self._state['accumulated_grads'].setdefault(var_index, np.zeros_like(current_grad))\n",
        "                np.add(self._momentum * old_grad, current_grad, out=old_grad)\n",
        "                current_var -= self._learning_rate * old_grad\n",
        "                var_index += 1"
      ]
    },
    {
      "cell_type": "markdown",
      "metadata": {
        "id": "zsN2ACEL5Co1"
      },
      "source": [
        "## 11. [Adam](https://arxiv.org/pdf/1412.6980.pdf) optimizer\n",
        "Formulas for optimizer:\n",
        "\n",
        "Current step learning rate: $$\\text{lr}_t = \\text{learning_rate} * \\frac{\\sqrt{1-\\beta_2^t}} {1-\\beta_1^t}$$\n",
        "First moment of var: $$\\mu_t = \\beta_1 * \\mu_{t-1} + (1 - \\beta_1)*g$$ \n",
        "Second moment of var: $$v_t = \\beta_2 * v_{t-1} + (1 - \\beta_2)*g*g$$\n",
        "New values of var: $$\\text{variable} = \\text{variable} - \\text{lr}_t * \\frac{\\mu_t}{\\sqrt{v_t} + \\epsilon}$$"
      ]
    },
    {
      "cell_type": "code",
      "execution_count": null,
      "metadata": {
        "id": "Cf9IrEmLg2OC"
      },
      "outputs": [],
      "source": [
        "class Adam(Optimizer):\n",
        "    def __init__(self, network, lr=0.001, betas=(0.9, 0.999), eps=1e-8):\n",
        "        super(Adam, self).__init__(network)\n",
        "        self._learning_rate = lr\n",
        "        self._beta1 = betas[0]\n",
        "        self._beta2 = betas[1]\n",
        "        self._epsilon = eps\n",
        "        \n",
        "    def step(self):\n",
        "        variables = self._network.get_parameters()\n",
        "        gradients = self._network.get_parameters_grad()\n",
        "        \n",
        "        self._state.setdefault('m', {})  # first moment vars\n",
        "        self._state.setdefault('v', {})  # second moment vars\n",
        "        self._state.setdefault('t', 0)   # timestamp\n",
        "        self._state['t'] += 1\n",
        "        t = self._state['t']\n",
        "    \n",
        "        var_index = 0 \n",
        "        lr_t = self._learning_rate * np.sqrt(1 - self._beta2**t) / (1 - self._beta1**t)\n",
        "        for current_layer_vars, current_layer_grads in zip(variables, gradients): \n",
        "            for current_var, current_grad in zip(current_layer_vars, current_layer_grads):\n",
        "                var_first_moment = self._state['m'].setdefault(var_index, np.zeros_like(current_grad))\n",
        "                var_second_moment = self._state['v'].setdefault(var_index, np.zeros_like(current_grad))\n",
        "\n",
        "                # <YOUR CODE> #######################################\n",
        "                # update `current_var_first_moment`, `var_second_moment` and `current_var` values\n",
        "                np.add(self._beta1 * var_first_moment, (1 - self._beta1) * current_grad, out=var_first_moment)\n",
        "                np.add(self._beta2 * var_second_moment, (1 - self._beta2) * current_grad * current_grad , out=var_second_moment)\n",
        "                current_var -= lr_t * var_first_moment / (self._epsilon + np.sqrt(var_second_moment)) \n",
        "\n",
        "                # small checks that you've updated the state; use np.add for rewriting np.arrays values\n",
        "                assert var_first_moment is self._state['m'].get(var_index)\n",
        "                assert var_second_moment is self._state['v'].get(var_index)\n",
        "                var_index += 1"
      ]
    },
    {
      "cell_type": "code",
      "source": [
        ""
      ],
      "metadata": {
        "id": "UJVc9zvgkMgV"
      },
      "execution_count": null,
      "outputs": []
    }
  ],
  "metadata": {
    "colab": {
      "collapsed_sections": [],
      "name": "1.modules.ipynb",
      "provenance": []
    },
    "kernelspec": {
      "display_name": "Python 3",
      "language": "python",
      "name": "python3"
    },
    "language_info": {
      "codemirror_mode": {
        "name": "ipython",
        "version": 3
      },
      "file_extension": ".py",
      "mimetype": "text/x-python",
      "name": "python",
      "nbconvert_exporter": "python",
      "pygments_lexer": "ipython3",
      "version": "3.8.5"
    }
  },
  "nbformat": 4,
  "nbformat_minor": 0
}