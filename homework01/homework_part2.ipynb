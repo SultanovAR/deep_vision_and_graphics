{
  "cells": [
    {
      "cell_type": "markdown",
      "metadata": {
        "cellId": "hsbyb4tyki9nx32utdtjpk",
        "id": "71AQJg3CDMn9"
      },
      "source": [
        "# Homework - Deep learning for image classification\n",
        "\n",
        "\n",
        "Let's train network to classify images from Tiny ImageNet!"
      ]
    },
    {
      "cell_type": "markdown",
      "metadata": {
        "id": "uS3gjxi7RN-6"
      },
      "source": [
        "Your homework contains three parts:\n",
        "\n",
        "1. Make yourself familiar with ordinary training script structure and train good old vgg-like network\n",
        "2. Improve quality with resnet-like network\n",
        "3. Improve quality with test-time augmentation\n",
        "\n",
        "But first of all let's take a look on data"
      ]
    },
    {
      "cell_type": "markdown",
      "metadata": {
        "cellId": "34l2kkk7t84llsmzyxus1",
        "id": "2MaELIpIDMoA"
      },
      "source": [
        "# Tiny ImageNet dataset\n",
        "In this homework we shall focus on the image recognition problem on Tiny Image Net dataset. This dataset contains\n",
        "* 100k images of shape 3x64x64\n",
        "* 200 different classes: snakes, spiders, cats, trucks, grasshopper, gull, etc.\n",
        "\n",
        "In fact, it is a subset of ImageNet dataset with 4x downscaled images."
      ]
    },
    {
      "cell_type": "markdown",
      "metadata": {
        "cellId": "rjwf5t0s4f8zbnfmyu7q",
        "id": "swKtJaVyDMoU"
      },
      "source": [
        "## Image examples"
      ]
    },
    {
      "cell_type": "markdown",
      "metadata": {
        "cellId": "nbxuu26h8hhcgzzgeh5nh",
        "id": "h5wImXEaDMoV"
      },
      "source": [
        "\n",
        "\n",
        "<tr>\n",
        "    <td> <img src=\"https://github.com/yandexdataschool/Practical_DL/blob/sem3spring2019/week03_convnets/tinyim3.png?raw=1\" alt=\"Drawing\" style=\"width:90%\"/> </td>\n",
        "    <td> <img src=\"https://github.com/yandexdataschool/Practical_DL/blob/sem3spring2019/week03_convnets/tinyim2.png?raw=1\" alt=\"Drawing\" style=\"width:90%\"/> </td>\n",
        "</tr>\n"
      ]
    },
    {
      "cell_type": "markdown",
      "metadata": {
        "cellId": "w71ngep3y8jm2s3xt0qg",
        "id": "Do-qRQp8DMoW"
      },
      "source": [
        "<tr>\n",
        "    <td> <img src=\"https://github.com/yandexdataschool/Practical_DL/blob/sem3spring2019/week03_convnets/tiniim.png?raw=1\" alt=\"Drawing\" style=\"width:90%\"/> </td>\n",
        "</tr>"
      ]
    },
    {
      "cell_type": "markdown",
      "metadata": {
        "id": "JP4HSZwPRN--"
      },
      "source": [
        "## Step 0 - data loading"
      ]
    },
    {
      "cell_type": "code",
      "execution_count": 6,
      "metadata": {
        "cellId": "k1eayz1ur2mqly9zrk5my",
        "id": "sCvh1ICbHNCE",
        "scrolled": true,
        "outputId": "bf3f23e5-2a0c-4507-b049-58da16a5bb7a",
        "colab": {
          "base_uri": "https://localhost:8080/"
        }
      },
      "outputs": [
        {
          "output_type": "stream",
          "name": "stdout",
          "text": [
            "--2022-07-30 14:16:19--  https://raw.githubusercontent.com/yandexdataschool/deep_vision_and_graphics/fall21/homework01/tiny_img.py\n",
            "Resolving raw.githubusercontent.com (raw.githubusercontent.com)... 185.199.108.133, 185.199.109.133, 185.199.110.133, ...\n",
            "Connecting to raw.githubusercontent.com (raw.githubusercontent.com)|185.199.108.133|:443... connected.\n",
            "HTTP request sent, awaiting response... 200 OK\n",
            "Length: 813 [text/plain]\n",
            "Saving to: ‘tiny_img.py’\n",
            "\n",
            "\rtiny_img.py           0%[                    ]       0  --.-KB/s               \rtiny_img.py         100%[===================>]     813  --.-KB/s    in 0s      \n",
            "\n",
            "2022-07-30 14:16:19 (34.2 MB/s) - ‘tiny_img.py’ saved [813/813]\n",
            "\n",
            "--2022-07-30 14:16:20--  https://raw.githubusercontent.com/yandexdataschool/deep_vision_and_graphics/fall21/homework01/tiny_img_dataset.py\n",
            "Resolving raw.githubusercontent.com (raw.githubusercontent.com)... 185.199.108.133, 185.199.109.133, 185.199.110.133, ...\n",
            "Connecting to raw.githubusercontent.com (raw.githubusercontent.com)|185.199.108.133|:443... connected.\n",
            "HTTP request sent, awaiting response... 200 OK\n",
            "Length: 1555 (1.5K) [text/plain]\n",
            "Saving to: ‘tiny_img_dataset.py’\n",
            "\n",
            "tiny_img_dataset.py 100%[===================>]   1.52K  --.-KB/s    in 0s      \n",
            "\n",
            "2022-07-30 14:16:20 (31.8 MB/s) - ‘tiny_img_dataset.py’ saved [1555/1555]\n",
            "\n"
          ]
        }
      ],
      "source": [
        "#!S:bash\n",
        "# if you are in colab, just add '!' in the start of the following line\n",
        "!wget --no-check-certificate 'https://raw.githubusercontent.com/yandexdataschool/deep_vision_and_graphics/fall21/homework01/tiny_img.py' -O tiny_img.py\n",
        "!wget --no-check-certificate 'https://raw.githubusercontent.com/yandexdataschool/deep_vision_and_graphics/fall21/homework01/tiny_img_dataset.py' -O tiny_img_dataset.py"
      ]
    },
    {
      "cell_type": "code",
      "execution_count": 2,
      "metadata": {
        "cellId": "5nh892g5zpl9qv5fki8vpk",
        "id": "5rQhiYyRDMoG",
        "outputId": "792f2d73-9eb3-4195-8908-9506ec3c1cfc",
        "colab": {
          "base_uri": "https://localhost:8080/"
        }
      },
      "outputs": [
        {
          "output_type": "stream",
          "name": "stdout",
          "text": [
            "Dataset was downloaded to './tiny-imagenet-200.zip'\n",
            "Extract downloaded dataset to '.'\n"
          ]
        }
      ],
      "source": [
        "#!L\n",
        "from tiny_img import download_tinyImg200\n",
        "data_path = '.'\n",
        "download_tinyImg200(data_path)"
      ]
    },
    {
      "cell_type": "markdown",
      "metadata": {
        "id": "qWehAQG2RN_A"
      },
      "source": [
        "## Part 1. Training script structure and vgg-like network"
      ]
    },
    {
      "cell_type": "markdown",
      "metadata": {
        "id": "Qcc0DMojRN_B"
      },
      "source": [
        "In order to train a neural network for a specific task you should write code for 4 task-specific blocks and for one task-independed block:\n",
        "1. data loader (data provider) - how to load and augment data for nn training\n",
        "2. neural network architecture - what will be trained\n",
        "3. loss function (+ auxilary metrics on train and validation set) - how to check neural network quality\n",
        "4. optiimzer and training schedule - how neural network will be trained\n",
        "5. \"Train loop\" - what exactly to do for each batch, how often to check validation error, how often to save network and so on. This code could be written in general way and reused between different training scripts\n"
      ]
    },
    {
      "cell_type": "code",
      "execution_count": 3,
      "metadata": {
        "cellId": "g2i37mixtk9kkxkki1y8",
        "id": "rS_-00tYDMoB",
        "outputId": "66f32ba6-b6ac-4d9e-ff6c-23910bfe0147",
        "colab": {
          "base_uri": "https://localhost:8080/"
        }
      },
      "outputs": [
        {
          "output_type": "stream",
          "name": "stdout",
          "text": [
            "Our main computing device is 'cuda:0'\n"
          ]
        }
      ],
      "source": [
        "#!L\n",
        "import torch\n",
        "import torchvision\n",
        "from torchvision import transforms\n",
        "import tqdm\n",
        "\n",
        "def get_computing_device():\n",
        "    if torch.cuda.is_available():\n",
        "        device = torch.device('cuda:0')\n",
        "    else:\n",
        "        device = torch.device('cpu')\n",
        "    return device\n",
        "\n",
        "device = get_computing_device()\n",
        "print(f\"Our main computing device is '{device}'\")"
      ]
    },
    {
      "cell_type": "markdown",
      "metadata": {
        "id": "Nz_eGKWORN_C"
      },
      "source": [
        "### 1.1 Data loader and data augmentation\n",
        "Normally there are two connected abstractions for data manipulation:\n",
        "- Dataset (`torch.utils.data.Dataset` and its subclasses from `torchvision.datasets`) - some black-box that keeps and preprocesses separate elements of dataset. In particular, single sample augmentations live on this level usually.\n",
        "- DataLoader (`torch.utils.data.DataLoader`) - structure that combines separate elements in batch.\n",
        "\n",
        "Let's deal with training dataset. Here are some simple augmentations that we are going to use in our experiments:"
      ]
    },
    {
      "cell_type": "code",
      "execution_count": 4,
      "metadata": {
        "id": "ra2OPqMWRN_D"
      },
      "outputs": [],
      "source": [
        "train_trainsforms = transforms.Compose(\n",
        "    [transforms.RandomHorizontalFlip(),\n",
        "     transforms.ToTensor(),\n",
        "     transforms.RandomRotation(5),\n",
        "     # YOUR CODE : examine torchvision.transforms package, find transformation for color jittering\n",
        "     # and add it with proper parameters.\n",
        "     transforms.ColorJitter(brightness=0.9, contrast=0.7, saturation=0.8, hue=0.2)\n",
        "     # you may add any other transforms here\n",
        "    ]\n",
        ")"
      ]
    },
    {
      "cell_type": "markdown",
      "metadata": {
        "id": "S25CexqWRN_E"
      },
      "source": [
        "For training dataset we will use custom dataset that will keep all training data in RAM. If your amount of RAM memory is low, you can use `torchvision.datasets.ImageFolder()` instead."
      ]
    },
    {
      "cell_type": "code",
      "execution_count": 5,
      "metadata": {
        "cellId": "jrzsbgniodgtg1hif324k9",
        "id": "5vq5Cm0ADMoK",
        "outputId": "14ed3c3e-d5c0-4f3d-cea3-1622fc600bee",
        "colab": {
          "base_uri": "https://localhost:8080/"
        }
      },
      "outputs": [
        {
          "output_type": "stream",
          "name": "stderr",
          "text": [
            "tiny-imagenet-200/train: 100%|██████████| 200/200 [00:44<00:00,  4.53it/s]\n"
          ]
        }
      ],
      "source": [
        "#!L\n",
        "import tiny_img_dataset\n",
        "# you may use torchvision.datasets.ImageFolder() with the same parameters for loading train dataset \n",
        "train_dataset = tiny_img_dataset.TinyImagenetRAM('tiny-imagenet-200/train', transform=train_trainsforms)"
      ]
    },
    {
      "cell_type": "markdown",
      "metadata": {
        "id": "Npps6zl4RN_G"
      },
      "source": [
        "Now validation. Take a look at `tiny-imagenet-200/val` folder and compare it with `tiny-imagenet-200/train`. Looks different, right? So we can't use `TinyImagenetRAM` for loading the validation set. Let's write a custom dataset instead but with the same behavior like `TinyImagenetRAM`."
      ]
    },
    {
      "cell_type": "code",
      "source": [
        "a = (2, 3, 3, 1)\n",
        "list(set(a))"
      ],
      "metadata": {
        "id": "FWzNr2-KeIII",
        "outputId": "81083ede-0ee2-4fc8-dc46-7e7f38e11083",
        "colab": {
          "base_uri": "https://localhost:8080/"
        }
      },
      "execution_count": 16,
      "outputs": [
        {
          "output_type": "execute_result",
          "data": {
            "text/plain": [
              "[1, 2, 3]"
            ]
          },
          "metadata": {},
          "execution_count": 16
        }
      ]
    },
    {
      "cell_type": "code",
      "execution_count": 20,
      "metadata": {
        "id": "bBTihST7RN_H"
      },
      "outputs": [],
      "source": [
        "from torch.utils.data import Dataset\n",
        "import os\n",
        "from PIL import Image\n",
        "\n",
        "class TinyImagenetValDataset(Dataset):\n",
        "    def __init__(self, root, transform=transforms.ToTensor()):\n",
        "        super().__init__()\n",
        "\n",
        "        self.root = root\n",
        "        with open(os.path.join(root, 'val_annotations.txt')) as f:\n",
        "            annotations = []\n",
        "            for line in f:\n",
        "                img_name, class_label = line.split('\\t')[:2]\n",
        "                annotations.append((img_name, class_label))\n",
        "\n",
        "        # 1. define self.classes - list of sorted class labels from annotations\n",
        "        # it should look like self.classes from \"TinyImagenetRAM\"\n",
        "        # YOUR CODE\n",
        "        self.classes = sorted(set(i[1] for i in annotations))\n",
        "        \n",
        "        assert len(self.classes) == 200, len(self.classes)\n",
        "        assert all(self.classes[i] < self.classes[i+1] for i in range(len(self.classes)-1)), 'classes should be ordered'\n",
        "        assert all(isinstance(elem, type(annotations[0][1])) for elem in self.classes), 'your just need to reuse class_labels'\n",
        "\n",
        "        # 2. self.class_to_idx - dict from class label to class index\n",
        "        self.class_to_idx = {item: index for index, item in enumerate(self.classes)}\n",
        "\n",
        "        self.transform = transform\n",
        "\n",
        "        self.images, self.targets = [], []\n",
        "        for img_name, class_name in tqdm.tqdm(annotations, desc=root):\n",
        "            img_name = os.path.join(root, 'images', img_name)\n",
        "            # 3. load image and store it in self.images (your may want to use tiny_img_dataset.read_rgb_image)\n",
        "            # store the class index in self.targets\n",
        "            # YOUR CODE\n",
        "            image = tiny_img_dataset.read_rgb_image(img_name)\n",
        "            \n",
        "            assert image.shape == (64, 64, 3), image.shape\n",
        "            self.images.append(Image.fromarray(image))\n",
        "            self.targets.append(self.class_to_idx[class_name])\n",
        "\n",
        "    def __len__(self):\n",
        "        return len(self.images)\n",
        "\n",
        "    def __getitem__(self, index):\n",
        "        # take image and its target label from \"self.images\" and \"self.targets\", \n",
        "        # transform the image using self.transform and return the transformed image and its target label\n",
        "        \n",
        "        # YOUR CODE\n",
        "        image = self.images[index]\n",
        "        image = self.transform(image)\n",
        "        target = self.target[index]\n",
        "\n",
        "        return image, target"
      ]
    },
    {
      "cell_type": "markdown",
      "metadata": {
        "id": "BLu07xHARN_I"
      },
      "source": [
        "Let's finally load validation dataset. Normally you don't need to augment validation data."
      ]
    },
    {
      "cell_type": "code",
      "execution_count": 21,
      "metadata": {
        "id": "nqHxS3LzRN_I",
        "outputId": "2cefbaa4-c0c9-45bf-c659-5643ae05dca7",
        "colab": {
          "base_uri": "https://localhost:8080/"
        }
      },
      "outputs": [
        {
          "output_type": "stream",
          "name": "stderr",
          "text": [
            "tiny-imagenet-200/val: 100%|██████████| 10000/10000 [00:04<00:00, 2160.45it/s]\n"
          ]
        }
      ],
      "source": [
        "val_dataset = TinyImagenetValDataset('tiny-imagenet-200/val', transform=transforms.ToTensor())\n",
        "\n",
        "assert all(train_dataset.classes[i] == val_dataset.classes[i] for i in range(200)), \\\n",
        "    'class order in train and val datasets should be the same'\n",
        "assert all(train_dataset.class_to_idx[elem] == val_dataset.class_to_idx[elem] for elem in train_dataset.classes), \\\n",
        "    'class indices should be the same'"
      ]
    },
    {
      "cell_type": "markdown",
      "metadata": {
        "id": "350Hg0UeRN_J"
      },
      "source": [
        "For the most cases the default `DataLoader` will be good enough."
      ]
    },
    {
      "cell_type": "code",
      "execution_count": 24,
      "metadata": {
        "cellId": "6md8io0fesfby4r9per3jb",
        "id": "tY6OUeOODMoN"
      },
      "outputs": [],
      "source": [
        "#!L\n",
        "batch_size = 64\n",
        "train_batch_gen = torch.utils.data.DataLoader(train_dataset, \n",
        "                                              batch_size=batch_size,\n",
        "                                              shuffle=True,\n",
        "                                              num_workers=2)"
      ]
    },
    {
      "cell_type": "code",
      "execution_count": 25,
      "metadata": {
        "cellId": "hsq566ut87vokpkiq68",
        "id": "HBgW-gzwDMoQ"
      },
      "outputs": [],
      "source": [
        "#!L\n",
        "val_batch_gen = torch.utils.data.DataLoader(val_dataset, \n",
        "                                            batch_size=batch_size,\n",
        "                                            shuffle=False,\n",
        "                                            num_workers=2)"
      ]
    },
    {
      "cell_type": "markdown",
      "metadata": {
        "cellId": "fxzxgbl11g2dixss4t9nx",
        "id": "arxSyhBLDMoX"
      },
      "source": [
        "### 1.2 Neural network definition\n",
        "\n",
        "\"VGG-like network\" usually means that the network is a sequence of convolutions with MaxPooling for downsampling. Here is a table from the original paper [\"Very Deep Convolutional Networks for Large-Scale Image Recognition\"](https://arxiv.org/abs/1409.1556) that describes classical configurations of VGG networks (often referred as VGG-A, VGG-B and so on using column name as an identificator or as VGG16, VGG19 and so on using amount of layers as an identificator)\n",
        "![image.png](https://pytorch.org/assets/images/vgg.png)\n",
        "\n",
        "These network configurations were designed for ImageNet dataset. Since images in tiny-imagenet are 4x downsampled, we are going to design our own configuration by reducing: 1) amount of layers; 2) amount of neurons in layers; 3) amount of maxpooling layers which downsample feature maps\n",
        "\n",
        "Our network config will be [Conv(16), Conv(16), MaxPool] + [Conv(32), Conv(32), MaxPool] + [Conv(64), Conv(64), MaxPool] + [Conv(128), Conv(128)] + [GlobalAveragePooling] + [FC(200) + softmax]\n",
        "\n",
        "We use Conv(128) and GlobalAveragePooling instead of image flattening and FC layers for reducing the amount of parameters. "
      ]
    },
    {
      "cell_type": "code",
      "execution_count": 26,
      "metadata": {
        "cellId": "g5yf9z66xdpvq688ze2d8",
        "id": "7QF2hMVxDMoY"
      },
      "outputs": [],
      "source": [
        "#!L\n",
        "import torch, torch.nn as nn\n",
        "import torch.nn.functional as F\n",
        "from torch.autograd import Variable"
      ]
    },
    {
      "cell_type": "markdown",
      "metadata": {
        "cellId": "6yn15hpuolcmryork2oqs",
        "id": "DJ6QKG3hDMoa"
      },
      "source": [
        "And one more thing. VGG was designed before BatchNormalization was introduced. Nowadays it will be stupid if we don't use batch normalization in our network. So let's define simple module containing convolution, batch norm and relu in it and build our network using this module. Here is also implementation of GlobalAveragePooling given for you as example of custom module."
      ]
    },
    {
      "cell_type": "code",
      "execution_count": 27,
      "metadata": {
        "cellId": "f985tf2dvssqwmyc6w99d",
        "id": "u_mbfRXMDMob"
      },
      "outputs": [],
      "source": [
        "#!L\n",
        "class GlobalAveragePool(nn.Module):\n",
        "    def __init__(self, dim):\n",
        "        super().__init__()\n",
        "        self.dim = dim\n",
        "    def forward(self, x):\n",
        "        return torch.mean(x, dim=self.dim)\n",
        "\n",
        "    \n",
        "class ConvBNRelu(nn.Module):\n",
        "    def __init__(self, in_channels, out_channels, kernel_size, stride=1, padding='same'):\n",
        "        super().__init__()\n",
        "        \n",
        "        # YOUR CODE: define vars for convolution, batchnorm, relu\n",
        "        \n",
        "        self.conv = torch.nn.Conv2d(in_channels, out_channels, kernel_size, stride, padding)\n",
        "        self.bn = torch.nn.BatchNorm2d(out_channels)\n",
        "        self.relu = torch.nn.ReLU()\n",
        "        \n",
        "    def forward(self, x):\n",
        "        # YOUR CODE: sequentially apply convolution, batchnorm, relu to 'x'\n",
        "        x = self.conv(x)\n",
        "        x = self.bn(x)\n",
        "        x = self.relu(x)\n",
        "        return x\n",
        "    \n",
        "    \n",
        "def create_vgg_like_network(config=None):\n",
        "    \"\"\"\n",
        "    Creates VGG like network according to config\n",
        "    \"\"\"\n",
        "    model = nn.Sequential()\n",
        "    \n",
        "    default_config = [[16,16], [32, 32], [64, 64], [128, 128]]\n",
        "    config = config or default_config\n",
        "    \n",
        "    in_channels = 3\n",
        "    for block_index in range(len(config)):\n",
        "        for layer_index_in_block in range(len(config[block_index])):\n",
        "            out_channels = config[block_index][layer_index_in_block]\n",
        "            \n",
        "            # YOUR CODE: add ConvBNRelu module to model\n",
        "            model.add_module(f\"cbr_{block_index}_{layer_index_in_block}\", ConvBNRelu(in_channels, out_channels, kernel_size=3))\n",
        "            \n",
        "            in_channels = out_channels\n",
        "            \n",
        "        if block_index != len(config) - 1:\n",
        "            model.add_module(f'mp_{block_index}', nn.MaxPool2d(3, stride=2))\n",
        "            \n",
        "    model.add_module('pool', GlobalAveragePool(dim=(2,3)))\n",
        "    model.add_module('logits', nn.Linear(out_channels, 200))\n",
        "    return model"
      ]
    },
    {
      "cell_type": "markdown",
      "metadata": {
        "id": "_FVVe91HRN_P"
      },
      "source": [
        "Here are our model created!"
      ]
    },
    {
      "cell_type": "code",
      "execution_count": 28,
      "metadata": {
        "id": "HkH2rFPhRN_P"
      },
      "outputs": [],
      "source": [
        "model = create_vgg_like_network()\n",
        "model = model.to(device)"
      ]
    },
    {
      "cell_type": "markdown",
      "metadata": {
        "cellId": "7dh3d8xmkeinv4kx0g079",
        "id": "DvugZZbeDMoe"
      },
      "source": [
        "### 1.3 Loss function definition\n",
        "\n",
        "Usually cross-entropy (negative log-likelihood) is used as loss function for image classification."
      ]
    },
    {
      "cell_type": "code",
      "execution_count": 29,
      "metadata": {
        "cellId": "3y7p7o6s7vecpf3kpktj8v",
        "id": "cGEhRWMYDMof"
      },
      "outputs": [],
      "source": [
        "#!L\n",
        "def compute_loss(predictions, gt):\n",
        "    return F.cross_entropy(predictions, gt).mean()"
      ]
    },
    {
      "cell_type": "markdown",
      "metadata": {
        "id": "e-eZTHfoRN_R"
      },
      "source": [
        "### 1.4 Optimizer and training schedule"
      ]
    },
    {
      "cell_type": "markdown",
      "metadata": {
        "id": "IW3I9AUDRN_S"
      },
      "source": [
        "Let's train our network using Adam with default parameters. \n",
        "\n",
        "For training by `torch.optim.SGD` you usually have to define training schedule - a way how to decrease learning rate during training. But since in adam all the gradients are scaled on their second momentum, the effect of a good training schedule is not so critical for training as in SGD. So we are going to act like lazy data scientists and will not decrease learning rate at all. But you may play with scheduling using for example `torch.optim.lr_scheduler.ExponentialLR`, see the [documentation](https://pytorch.org/docs/stable/optim.html#how-to-adjust-learning-rate) with explanation how to use it."
      ]
    },
    {
      "cell_type": "code",
      "execution_count": 30,
      "metadata": {
        "id": "gJ70XQrzRN_S"
      },
      "outputs": [],
      "source": [
        "opt = torch.optim.Adam(model.parameters())"
      ]
    },
    {
      "cell_type": "markdown",
      "metadata": {
        "id": "ew9QYjUpRN_S"
      },
      "source": [
        "### 1.5 Training loop\n",
        "\n",
        "Let's combine the previously defined things together."
      ]
    },
    {
      "cell_type": "code",
      "execution_count": null,
      "metadata": {
        "cellId": "w8rht9ygh7uns89ypozln",
        "id": "sEy0LiHxDMol",
        "scrolled": true
      },
      "outputs": [],
      "source": [
        "import numpy as np\n",
        "import time\n",
        "\n",
        "\n",
        "def eval_model(model, data_generator):\n",
        "    accuracy = []\n",
        "    model.train(False) # disable dropout / use averages for batch_norm\n",
        "    with torch.no_grad():\n",
        "        for X_batch, y_batch in data_generator:\n",
        "            X_batch = X_batch.to(device)\n",
        "            logits = model(X_batch)\n",
        "            y_pred = logits.max(1)[1].data\n",
        "            accuracy.append(np.mean((y_batch.cpu() == y_pred.cpu()).numpy()))\n",
        "    return np.mean(accuracy)\n",
        "\n",
        "            \n",
        "def train_model(model, optimizer, train_data_generator):\n",
        "    train_loss = []\n",
        "    model.train(True) # enable dropout / batch_norm training behavior\n",
        "    for (X_batch, y_batch) in tqdm.tqdm(train_data_generator):\n",
        "        opt.zero_grad()\n",
        "\n",
        "        # forward\n",
        "        # YOUR CODE: move X_batch, y_batch to 'device', compute model outputs on X_batch, \n",
        "        # run `compute_loss()` function\n",
        "        X_batch = ...\n",
        "        y_batch = ...\n",
        "        predictions = ...\n",
        "        loss = ...\n",
        "\n",
        "        # backward\n",
        "        loss.backward()\n",
        "        optimizer.step()\n",
        "\n",
        "        # metrics\n",
        "        train_loss.append(loss.cpu().data.numpy())\n",
        "    return np.mean(train_loss)\n",
        "\n",
        "\n",
        "def train_loop(model, optimizer, train_data_generator, val_data_generator, num_epochs):\n",
        "    \"\"\"\n",
        "    num_epochs - total amount of full passes over training data\n",
        "    \"\"\"\n",
        "    for epoch in range(num_epochs):\n",
        "        start_time = time.time()\n",
        "        \n",
        "        train_loss = train_model(model, optimizer, train_data_generator)\n",
        "        \n",
        "        val_accuracy = eval_model(model, val_data_generator)\n",
        "\n",
        "        # Then we print the results for this epoch:\n",
        "        print(\"Epoch {} of {} took {:.3f}s\".format(epoch + 1, num_epochs, time.time() - start_time))\n",
        "        print(\"  training loss (in-iteration): \\t{:.6f}\".format(train_loss))\n",
        "        print(\"  validation accuracy: \\t\\t\\t{:.2f} %\".format(val_accuracy * 100))"
      ]
    },
    {
      "cell_type": "markdown",
      "metadata": {
        "id": "VjSIUcznRN_T"
      },
      "source": [
        "### 1.6 Training\n",
        "\n",
        "All the preparation is done, time to run the training!\n",
        "\n",
        "Normally after training for 30 epochs you should get a neural network that predicts labels with >40% accuracy here. "
      ]
    },
    {
      "cell_type": "code",
      "execution_count": null,
      "metadata": {
        "scrolled": true,
        "id": "BiRQAQc-RN_U"
      },
      "outputs": [],
      "source": [
        "train_loop(model, opt, train_batch_gen, val_batch_gen, num_epochs=30)"
      ]
    },
    {
      "cell_type": "markdown",
      "metadata": {
        "id": "HiOzoJ02RN_U"
      },
      "source": [
        "## Part 2. Say Hello to ResNets"
      ]
    },
    {
      "cell_type": "markdown",
      "metadata": {
        "id": "KByT4dYtRN_V"
      },
      "source": [
        "In this part you need to redefine your model, all the rest will be the same. As with VGG, we are going to define ResNet-like model, not a classic architecture, designed for ImageNet classification.\n",
        "\n",
        "\"ResNet-like\" usually means that your network consists of \"residual blocks\". There are two types of blocks that widely used: with two convolutions and with three convolutions:\n",
        "![resnet_blocks](https://miro.medium.com/max/613/1*zS2ChIMwAqC5DQbL5yD9iQ.png)\n",
        "\n",
        "In practice, blocks with three convolutions are used often since they allows to build more deep network with less parameters. Blocks with two convolutions are usually used for comparisson with non-residual networks, espatially with VGG and AlexNet.\n",
        "\n",
        "Here is a table from the paper \"[Deep Residual Learning for Image Recognition](https://arxiv.org/pdf/1512.03385.pdf)\" that describes classical configurations of ResNet networks. Usually they are referred as ResNet-18, ResNet-34 and so on using amount of layers as identificator. Note, that networks starting from ResNet-50 are based on 3-convolutional blocks. In fact ResNet-18 and ResNet-34 were introduces just for comparison with VGG, while ResNet-50 is what usually used in practice as a good baseline.\n",
        "\n",
        "![img](https://miro.medium.com/max/2400/1*aq0q7gCvuNUqnMHh4cpnIw.png)\n",
        "\n",
        "As with VGG, we are going to build our own config for network. Let's use 2-convolutional blocks for comparisson with vgg and take network like [Conv7x7 - 32] + [conv32-block, conv32-block] + [conv64-block, conv64-block] + [conv128-block, conv128-block] + [GlobalAveragePooling] + fc200 + softmax\n",
        "\n",
        "Comparing to ResNet18, we decreased the amount of filters and removed max-pooling in the beggining and the last set of convolutions for keeping meaningful spatial resolution."
      ]
    },
    {
      "cell_type": "code",
      "execution_count": null,
      "metadata": {
        "id": "iRnjLAOTRN_V"
      },
      "outputs": [],
      "source": [
        "class ResNetBlock2(nn.Module):\n",
        "    \"\"\"\n",
        "    Module implements the following function:\n",
        "    \n",
        "    output = relu(F(input) + Residual(input)), where: \n",
        "        Residual(x) = Conv + bn + relu + conv + bn\n",
        "        F(x) = x                                        , if in_channels == out_channels and stride == 1\n",
        "             = Conv1x1(in_channel, out_channel, stride) , otherwise\n",
        "    \"\"\"\n",
        "    def __init__(self, in_channels, out_channels, kernel_size=3, stride=1, padding='same'):\n",
        "        super().__init__()\n",
        "        # YOUR CODE: define conv1, bn1, relu1, conv2, bn2 for residual branch computation \n",
        "        #self.conv1 = ...\n",
        "        #self.bn1 = ...\n",
        "        #self.relu1 = ...\n",
        "        \n",
        "        #self.conv2 = ...\n",
        "        #self.bn2 = ...\n",
        "        \n",
        "        self.relu2 = nn.ReLU()\n",
        "        \n",
        "        self.conv3 = None  # conv for main branch adopatation\n",
        "        if in_channels != out_channels or stride != 1:\n",
        "            self.conv3 = nn.Conv2d(in_channels, out_channels, 1, stride, padding=0)\n",
        "        \n",
        "    def forward(self, x):\n",
        "        # YOUR CODE: compute residual branch, \n",
        "        # DON'T OVERRIDE 'x' as you will need it \n",
        "        \n",
        "        #residual = ...\n",
        "        \n",
        "        if self.conv3 is not None:\n",
        "            x = self.conv3(x)\n",
        "            \n",
        "        result = self.relu2(residual + x)\n",
        "        return result\n",
        "\n",
        "def create_resnet_like_network():\n",
        "    model = nn.Sequential()\n",
        "    \n",
        "    config = [[32, 32], [64, 64], [128, 128]]\n",
        "    model.add_module('init_conv', ConvBNRelu(3, 32, kernel_size=7, stride=2, padding=3))\n",
        "    \n",
        "    in_channels = 32\n",
        "    for i in range(len(config)):\n",
        "        for j in range(len(config[i])):\n",
        "            out_channels = config[i][j]\n",
        "            stride = 2 if i != 0 and j == 0 else 1\n",
        "            # YOUR CODE: add ResNetBlock2 module to model\n",
        "            model.add_module(...)\n",
        "            \n",
        "            in_channels = out_channels\n",
        "    model.add_module('pool', GlobalAveragePool((2,3)))\n",
        "    model.add_module('logits', nn.Linear(out_channels, 200))\n",
        "    return model"
      ]
    },
    {
      "cell_type": "markdown",
      "metadata": {
        "id": "JsW6Ww4zRN_W"
      },
      "source": [
        "Let's train our network then. Normally after training for 30 epochs you should get a neural network that predicts labels with >40% accuracy and gives near +1% profit to vgg-like network from the previous experiment."
      ]
    },
    {
      "cell_type": "code",
      "execution_count": null,
      "metadata": {
        "id": "TT1-AKbfRN_W"
      },
      "outputs": [],
      "source": [
        "# YOUR CODE: create resnet model, move it to 'device', create same optimizer as in previous experiment\n",
        "model = ...\n",
        "opt = ...\n",
        "train_loop(model, opt, train_batch_gen, val_batch_gen, num_epochs=30)"
      ]
    },
    {
      "cell_type": "markdown",
      "metadata": {
        "id": "0_HkVOxoRN_X"
      },
      "source": [
        "If you were attentive to our resnet network, you may notice that it has almost 2x more parameters and 2x deeper than vgg-like network. Let's define comparable vgg-like network by doubling amount of conv layers.\n",
        "\n",
        "Our new vgg-like architecture will be [Conv(16), Conv(16), MaxPool] + [Conv(32), Conv(32), Conv(32), Conv(32), MaxPool] + [Conv(64), Conv(64), Conv(64), Conv(64), MaxPool] + [Conv(128), Conv(128), Conv(128), Conv(128)] + [GlobalAveragePooling] + [FC(200) + softmax]"
      ]
    },
    {
      "cell_type": "code",
      "execution_count": null,
      "metadata": {
        "scrolled": true,
        "id": "3g8CgHUyRN_X"
      },
      "outputs": [],
      "source": [
        "model = create_vgg_like_network(config=[[16,16], [32,32,32,32], [64, 64, 64, 64], [128, 128, 128, 128]])\n",
        "model = model.to(device)\n",
        "opt = torch.optim.Adam(model.parameters())\n",
        "train_loop(model, opt, train_batch_gen, val_batch_gen, num_epochs=30)"
      ]
    },
    {
      "cell_type": "markdown",
      "metadata": {
        "id": "YnxcDX9uRN_X"
      },
      "source": [
        "Do you see the profit from residual connections? \n",
        "\n",
        "The quality of vgg network in this experiment could be even worse than the quality of vgg network in the first experiment. This is due to gradient vanishing problem that makes it hard to train deep neural networks without residual conections."
      ]
    },
    {
      "cell_type": "markdown",
      "metadata": {
        "id": "znsXLnIxRN_Y"
      },
      "source": [
        "## Part 3. Test time augmentations"
      ]
    },
    {
      "cell_type": "markdown",
      "metadata": {
        "id": "4kD6Bp-4RN_Y"
      },
      "source": [
        "Test-time augmentation (TTA) is a powerful techneque that allows you to trade inference time for quality. The main idea is as follows. As for train data augmentation, you may use some image transformations to generate new representations of the input image and expect that on these representations properly trained network provides consistent predictions. These predictions can be averaged then in order to get more stable prediction. "
      ]
    },
    {
      "cell_type": "code",
      "execution_count": null,
      "metadata": {
        "id": "uERsMcd1RN_Y"
      },
      "outputs": [],
      "source": [
        "model_accuracy = eval_model(model, val_batch_gen)\n",
        "print(f\"Trained model accuracy: {model_accuracy}\")"
      ]
    },
    {
      "cell_type": "code",
      "execution_count": null,
      "metadata": {
        "id": "yD04rhrIRN_Z"
      },
      "outputs": [],
      "source": [
        "def eval_model_with_tta(model, data_generator, transformations, n_transformations):\n",
        "    accuracy = []\n",
        "    model.train(False) # disable dropout / use averages for batch_norm\n",
        "    with torch.no_grad():\n",
        "        for X_batch, y_batch in tqdm.tqdm(data_generator):\n",
        "            logits_per_transform = []\n",
        "            for _ in range(n_transformations):\n",
        "                # YOUR CODE: apply transformations to X_batch, move batch to device, run forward pass\n",
        "                # DON\"T OVERRIDE X_batch \n",
        "                #X_batch_transformed = ...\n",
        "                #logits = ...\n",
        "                \n",
        "                logits_per_transform.append(logits)\n",
        "                \n",
        "            # YOUR CODE: stack logits_per_transform and calculate mean over stacked dimension\n",
        "            #averaged_logits = ...\n",
        "\n",
        "            y_pred = averaged_logits.max(dim=1)[1].data\n",
        "            accuracy.append(np.mean((y_batch.cpu() == y_pred.cpu()).numpy()))\n",
        "    return np.mean(accuracy)"
      ]
    },
    {
      "cell_type": "code",
      "execution_count": null,
      "metadata": {
        "id": "zuoH5YWlRN_Z"
      },
      "outputs": [],
      "source": [
        "tta_transformations = transforms.Compose([\n",
        "    transforms.RandomHorizontalFlip(),\n",
        "    transforms.RandomRotation(5),\n",
        "    # YOUR CODE: add ColorJitter augmentation; probably it's good idea to reduce the parameters of \n",
        "    # jittering comparing to augmentation on train set in order to reduce variance\n",
        "])"
      ]
    },
    {
      "cell_type": "code",
      "execution_count": null,
      "metadata": {
        "id": "mdrpi0y-RN_a"
      },
      "outputs": [],
      "source": [
        "n_forwards = [1]\n",
        "tta_accuracy = [model_accuracy]\n",
        "for i in [3, 5, 7, 9, 13, 15]:\n",
        "    tta_accuracy.append(eval_model_with_tta(model, val_batch_gen, tta_transformations, n_transformations=i))\n",
        "    n_forwards.append(i)\n",
        "    print(f\"Model accuracy with {n_forwards[-1]} forward runs is {tta_accuracy[-1]}\")"
      ]
    },
    {
      "cell_type": "markdown",
      "metadata": {
        "id": "BPfsRVnXRN_a"
      },
      "source": [
        "Let's visualize what we have computed"
      ]
    },
    {
      "cell_type": "code",
      "execution_count": null,
      "metadata": {
        "id": "klIyLWYvRN_a"
      },
      "outputs": [],
      "source": [
        "import matplotlib.pyplot as plt\n",
        "%matplotlib inline"
      ]
    },
    {
      "cell_type": "code",
      "execution_count": null,
      "metadata": {
        "id": "13tA6aOsRN_b"
      },
      "outputs": [],
      "source": [
        "plt.plot(n_forwards, tta_accuracy)\n",
        "plt.grid()\n",
        "plt.xlabel('n_forwards per sample')\n",
        "plt.ylabel('accuracy')\n",
        "plt.title('Test time augmentation results')"
      ]
    },
    {
      "cell_type": "markdown",
      "metadata": {
        "id": "r3VjYVD3RN_b"
      },
      "source": [
        "Normally you should get 1-2% improvement of accuracy here."
      ]
    },
    {
      "cell_type": "markdown",
      "metadata": {
        "id": "iQq4ma0ARN_b"
      },
      "source": [
        "## What's next?\n",
        "Introducing of residual blocks played a big role in deep learning and allowed to train deep (and I mean really [DEEP](https://github.com/KaimingHe/resnet-1k-layers/blob/master/resnet-pre-act.lua#L2)) networks. Many modern architectures include such layer or its variation. For deeper understanding of influence of skip connections you can read the following papers:\n",
        "1. [\"Residual Networks Behave Like Ensembles of\n",
        "Relatively Shallow Networks\"](https://arxiv.org/pdf/1605.06431.pdf) - interesting point of view on residual blocks showing that statement \"skip connections solves vanishing gradients problem\" is ambigious in some way\n",
        "2. [\"Identity Mappings in Deep Residual Networks\"](https://arxiv.org/pdf/1603.05027.pdf) ([short summary](https://towardsdatascience.com/resnet-with-identity-mapping-over-1000-layers-reached-image-classification-bb50a42af03e)) - study and comparison of different residual blocks variations showing that preserving \"identity path\" through the network improves quality\n",
        "3. [\"Visualizing the Loss Landscape of Neural Nets\"](https://arxiv.org/pdf/1712.09913.pdf) - some attempts on loss function visualization showed how skip-connections affect loss landscape"
      ]
    }
  ],
  "metadata": {
    "accelerator": "GPU",
    "colab": {
      "name": "seminar_pytorch.ipynb",
      "provenance": []
    },
    "kernelspec": {
      "display_name": "Python 3",
      "language": "python",
      "name": "python3"
    },
    "language_info": {
      "codemirror_mode": {
        "name": "ipython",
        "version": 3
      },
      "file_extension": ".py",
      "mimetype": "text/x-python",
      "name": "python",
      "nbconvert_exporter": "python",
      "pygments_lexer": "ipython3",
      "version": "3.8.8"
    },
    "notebookId": "0bd81ca7-4175-4905-a84c-21ed8da72299"
  },
  "nbformat": 4,
  "nbformat_minor": 0
}